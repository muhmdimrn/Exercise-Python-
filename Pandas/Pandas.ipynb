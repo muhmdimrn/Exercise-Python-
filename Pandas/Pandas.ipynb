{
 "cells": [
  {
   "cell_type": "markdown",
   "metadata": {},
   "source": [
    "## What is the version of pandas used in this notebook ?"
   ]
  },
  {
   "cell_type": "code",
   "execution_count": 1,
   "metadata": {},
   "outputs": [
    {
     "name": "stdout",
     "output_type": "stream",
     "text": [
      "Requirement already satisfied: scipy in /Library/Frameworks/Python.framework/Versions/3.12/lib/python3.12/site-packages (1.14.1)\n",
      "Requirement already satisfied: numpy<2.3,>=1.23.5 in /Library/Frameworks/Python.framework/Versions/3.12/lib/python3.12/site-packages (from scipy) (2.1.0)\n",
      "Note: you may need to restart the kernel to use updated packages.\n",
      "Requirement already satisfied: pandas in /Library/Frameworks/Python.framework/Versions/3.12/lib/python3.12/site-packages (2.2.2)\n",
      "Requirement already satisfied: numpy>=1.26.0 in /Library/Frameworks/Python.framework/Versions/3.12/lib/python3.12/site-packages (from pandas) (2.1.0)\n",
      "Requirement already satisfied: python-dateutil>=2.8.2 in /Library/Frameworks/Python.framework/Versions/3.12/lib/python3.12/site-packages (from pandas) (2.9.0.post0)\n",
      "Requirement already satisfied: pytz>=2020.1 in /Library/Frameworks/Python.framework/Versions/3.12/lib/python3.12/site-packages (from pandas) (2024.1)\n",
      "Requirement already satisfied: tzdata>=2022.7 in /Library/Frameworks/Python.framework/Versions/3.12/lib/python3.12/site-packages (from pandas) (2024.1)\n",
      "Requirement already satisfied: six>=1.5 in /Library/Frameworks/Python.framework/Versions/3.12/lib/python3.12/site-packages (from python-dateutil>=2.8.2->pandas) (1.16.0)\n",
      "Note: you may need to restart the kernel to use updated packages.\n",
      "Requirement already satisfied: openpyxl in /Library/Frameworks/Python.framework/Versions/3.12/lib/python3.12/site-packages (3.1.5)\n",
      "Requirement already satisfied: et-xmlfile in /Library/Frameworks/Python.framework/Versions/3.12/lib/python3.12/site-packages (from openpyxl) (1.1.0)\n",
      "Note: you may need to restart the kernel to use updated packages.\n"
     ]
    }
   ],
   "source": [
    "%pip install scipy\n",
    "%pip install --upgrade pandas\n",
    "%pip install openpyxl"
   ]
  },
  {
   "cell_type": "code",
   "execution_count": 2,
   "metadata": {},
   "outputs": [
    {
     "data": {
      "text/plain": [
       "'2.2.2'"
      ]
     },
     "execution_count": 2,
     "metadata": {},
     "output_type": "execute_result"
    }
   ],
   "source": [
    "import pandas as pd\n",
    "from pandas.tseries.offsets import BDay\n",
    "import matplotlib as plt\n",
    "import scipy\n",
    "import numpy as np\n",
    "\n",
    "pd.__version__"
   ]
  },
  {
   "cell_type": "markdown",
   "metadata": {},
   "source": [
    "## Pandas fundamental operations"
   ]
  },
  {
   "cell_type": "code",
   "execution_count": 3,
   "metadata": {},
   "outputs": [
    {
     "name": "stdout",
     "output_type": "stream",
     "text": [
      "0    0.25\n",
      "1    0.50\n",
      "2    0.75\n",
      "3    1.00\n",
      "dtype: float64\n"
     ]
    }
   ],
   "source": [
    "data = pd.Series([0.25,0.5,0.75,1.0])\n",
    "print(data)"
   ]
  },
  {
   "cell_type": "code",
   "execution_count": 4,
   "metadata": {},
   "outputs": [
    {
     "name": "stdout",
     "output_type": "stream",
     "text": [
      "[0.25 0.5  0.75 1.  ]\n",
      "RangeIndex(start=0, stop=4, step=1)\n",
      "<bound method Series.keys of 0    0.25\n",
      "1    0.50\n",
      "2    0.75\n",
      "3    1.00\n",
      "dtype: float64>\n"
     ]
    }
   ],
   "source": [
    "data = pd.Series((0.25, 0.5, 0.75, 1.0))\n",
    "print(data.values)\n",
    "print(data.index)\n",
    "print(data.keys)"
   ]
  },
  {
   "cell_type": "code",
   "execution_count": 5,
   "metadata": {},
   "outputs": [
    {
     "name": "stdout",
     "output_type": "stream",
     "text": [
      "count    11.000000\n",
      "mean      5.363636\n",
      "std       2.292280\n",
      "min       2.000000\n",
      "25%       3.500000\n",
      "50%       5.000000\n",
      "75%       7.000000\n",
      "max       9.000000\n",
      "dtype: float64\n"
     ]
    }
   ],
   "source": [
    "data = pd.Series((3,6,9,8,5,4,2,6,3,5,8))\n",
    "print(data.describe())"
   ]
  },
  {
   "cell_type": "code",
   "execution_count": 6,
   "metadata": {},
   "outputs": [
    {
     "name": "stdout",
     "output_type": "stream",
     "text": [
      "max      9.000000\n",
      "min      2.000000\n",
      "sum     59.000000\n",
      "mean     5.363636\n",
      "std      2.292280\n",
      "dtype: float64\n"
     ]
    }
   ],
   "source": [
    "data = pd.Series((3,6,9,8,5,4,2,6,3,5,8))\n",
    "print(data.agg(['max','min','sum','mean','std']))"
   ]
  },
  {
   "cell_type": "code",
   "execution_count": 7,
   "metadata": {},
   "outputs": [
    {
     "name": "stdout",
     "output_type": "stream",
     "text": [
      "0.5\n",
      "1    0.50\n",
      "2    0.75\n",
      "dtype: float64\n",
      "1    0.5\n",
      "dtype: float64\n"
     ]
    }
   ],
   "source": [
    "data = pd.Series((0.25, 0.5,0.75,1.0))\n",
    "print(data[1])\n",
    "print(data[1:3])\n",
    "print(data[1:3:2])"
   ]
  },
  {
   "cell_type": "code",
   "execution_count": 8,
   "metadata": {},
   "outputs": [
    {
     "name": "stdout",
     "output_type": "stream",
     "text": [
      "Nasi Lemak        5\n",
      "Lontong kering    6\n",
      "Laksa Johor       6\n",
      "Soto              5\n",
      "dtype: int64\n",
      "Nasi Lemak        5\n",
      "Lontong Kering    6\n",
      "Laksa Johor       6\n",
      "Soto              5\n",
      "dtype: int64\n"
     ]
    }
   ],
   "source": [
    "data1 = pd.Series([5,6,6,5], index = ['Nasi Lemak','Lontong kering','Laksa Johor','Soto'])\n",
    "data2 = pd.Series({'Nasi Lemak':5,'Lontong Kering':6,'Laksa Johor':6,'Soto':5})\n",
    "\n",
    "print(data1)\n",
    "print(data2)"
   ]
  },
  {
   "cell_type": "markdown",
   "metadata": {},
   "source": [
    "Slice by new indexes"
   ]
  },
  {
   "cell_type": "code",
   "execution_count": 9,
   "metadata": {},
   "outputs": [
    {
     "name": "stdout",
     "output_type": "stream",
     "text": [
      "5\n",
      "6\n"
     ]
    }
   ],
   "source": [
    "data1 = pd.Series([5,6,6,5], index = ['Nasi Lemak','Lontong kering','Laksa Johor','Soto'])\n",
    "data2 = pd.Series({'Nasi Lemak':5,'Lontong Kering':6,'Laksa Johor':6,'Soto':5})\n",
    "\n",
    "print(data1['Nasi Lemak'])\n",
    "print(data2['Lontong Kering'])"
   ]
  },
  {
   "cell_type": "markdown",
   "metadata": {},
   "source": [
    "List and List operations by Pandas"
   ]
  },
  {
   "cell_type": "code",
   "execution_count": 10,
   "metadata": {},
   "outputs": [
    {
     "name": "stdout",
     "output_type": "stream",
     "text": [
      "Index([2, 3, 5, 7, 11], dtype='int64')\n"
     ]
    }
   ],
   "source": [
    "x = pd.Index([2,3,5,7,11])\n",
    "print(x)"
   ]
  },
  {
   "cell_type": "code",
   "execution_count": 11,
   "metadata": {},
   "outputs": [
    {
     "name": "stdout",
     "output_type": "stream",
     "text": [
      "Index([1, 3, 5, 7, 9], dtype='int64')\n",
      "Index([2, 3, 5, 7, 11], dtype='int64')\n",
      "Index([0, 3, 5, 7, 9], dtype='int64')\n",
      "Index([3, 3, 5, 7, 11], dtype='int64')\n",
      "Index([3, 0, 0, 0, 2], dtype='int64')\n"
     ]
    }
   ],
   "source": [
    "a=pd.Index([1,3,5,7,9])\n",
    "b=pd.Index([2,3,5,7,11])\n",
    "\n",
    "print(a)\n",
    "print (b)\n",
    "print(a&b)\n",
    "print(a|b)\n",
    "print(a^b)"
   ]
  },
  {
   "cell_type": "markdown",
   "metadata": {},
   "source": [
    "**Data Visualization with Pandas**"
   ]
  },
  {
   "cell_type": "markdown",
   "metadata": {},
   "source": [
    "Important Notes\n",
    "\n",
    "- When supplying only the 'y' data, Pandas plot will automatically create the x-axis\n",
    "data as 1, 2, 3, ..., aligning with the quantity of input data on the y-axis.\n",
    "\n",
    "- The default kind parameter in the plot command is set to line. Therefore, if you\n",
    "desire a different plot type, you will need to specify it accordingly."
   ]
  },
  {
   "cell_type": "markdown",
   "metadata": {},
   "source": [
    "- Plot as line"
   ]
  },
  {
   "cell_type": "code",
   "execution_count": 12,
   "metadata": {},
   "outputs": [
    {
     "data": {
      "text/plain": [
       "<Axes: >"
      ]
     },
     "execution_count": 12,
     "metadata": {},
     "output_type": "execute_result"
    },
    {
     "data": {
      "image/png": "[encoded data removed]",
      "text/plain": [
       "<Figure size 640x480 with 1 Axes>"
      ]
     },
     "metadata": {},
     "output_type": "display_data"
    }
   ],
   "source": [
    "data = pd.Series((3,6,9,8,5,4,2,6,3,5,8,))\n",
    "#Data.plot()\n",
    "data.plot(kind='line')"
   ]
  },
  {
   "cell_type": "markdown",
   "metadata": {},
   "source": [
    "- Plot as Pie"
   ]
  },
  {
   "cell_type": "code",
   "execution_count": 13,
   "metadata": {},
   "outputs": [
    {
     "data": {
      "text/plain": [
       "<Axes: >"
      ]
     },
     "execution_count": 13,
     "metadata": {},
     "output_type": "execute_result"
    },
    {
     "data": {
      "image/png": "[encoded data removed]",
      "text/plain": [
       "<Figure size 640x480 with 1 Axes>"
      ]
     },
     "metadata": {},
     "output_type": "display_data"
    }
   ],
   "source": [
    "data = pd.Series((3,6,9,8,5,4,2,6,3,5,8,))\n",
    "data.plot(kind='pie')"
   ]
  },
  {
   "cell_type": "markdown",
   "metadata": {},
   "source": [
    "- Plot as Bar"
   ]
  },
  {
   "cell_type": "code",
   "execution_count": 14,
   "metadata": {},
   "outputs": [
    {
     "data": {
      "text/plain": [
       "<Axes: >"
      ]
     },
     "execution_count": 14,
     "metadata": {},
     "output_type": "execute_result"
    },
    {
     "data": {
      "image/png": "[encoded data removed]",
      "text/plain": [
       "<Figure size 640x480 with 1 Axes>"
      ]
     },
     "metadata": {},
     "output_type": "display_data"
    }
   ],
   "source": [
    "data = pd.Series((3,6,9,8,5,4,2,6,3,5,8,))\n",
    "data.plot(kind='bar')"
   ]
  },
  {
   "cell_type": "code",
   "execution_count": 15,
   "metadata": {},
   "outputs": [
    {
     "data": {
      "text/plain": [
       "<Axes: >"
      ]
     },
     "execution_count": 15,
     "metadata": {},
     "output_type": "execute_result"
    },
    {
     "data": {
      "image/png": "[encoded data removed]",
      "text/plain": [
       "<Figure size 640x480 with 1 Axes>"
      ]
     },
     "metadata": {},
     "output_type": "display_data"
    }
   ],
   "source": [
    "data = pd.Series((3,6,9,8,5,4,2,6,3,5,8,))\n",
    "data.plot(kind='barh')"
   ]
  },
  {
   "cell_type": "markdown",
   "metadata": {},
   "source": [
    "**Plot as Histogram**\n",
    "-  The concept behind a histogram is to determine the frequency of each\n",
    "element in the provided list.\n",
    "-  It requires a single column as input to analyze and display the distribution."
   ]
  },
  {
   "cell_type": "code",
   "execution_count": 16,
   "metadata": {},
   "outputs": [
    {
     "data": {
      "text/plain": [
       "<Axes: ylabel='Frequency'>"
      ]
     },
     "execution_count": 16,
     "metadata": {},
     "output_type": "execute_result"
    },
    {
     "data": {
      "image/png": "[encoded data removed]",
      "text/plain": [
       "<Figure size 640x480 with 1 Axes>"
      ]
     },
     "metadata": {},
     "output_type": "display_data"
    }
   ],
   "source": [
    "data = pd.Series((3,6,9,8,5,4,2,6,3,5,8,))\n",
    "data.plot(kind='hist')"
   ]
  },
  {
   "cell_type": "markdown",
   "metadata": {},
   "source": [
    "**Plot as box**\n",
    "- The box plotted based on the maximum, lower, and median for the given\n",
    "data"
   ]
  },
  {
   "cell_type": "code",
   "execution_count": 17,
   "metadata": {},
   "outputs": [
    {
     "data": {
      "text/plain": [
       "<Axes: >"
      ]
     },
     "execution_count": 17,
     "metadata": {},
     "output_type": "execute_result"
    },
    {
     "data": {
      "image/png": "[encoded data removed]",
      "text/plain": [
       "<Figure size 640x480 with 1 Axes>"
      ]
     },
     "metadata": {},
     "output_type": "display_data"
    }
   ],
   "source": [
    "data =pd.Series((3,6,9,8,5,4,2,6,3,5,8,))\n",
    "data.plot(kind='box')"
   ]
  },
  {
   "cell_type": "markdown",
   "metadata": {},
   "source": [
    "**Plot by KDE**\n",
    "- It is something related to the density distribution from the number of\n",
    "repetition of each value"
   ]
  },
  {
   "cell_type": "code",
   "execution_count": 18,
   "metadata": {},
   "outputs": [
    {
     "data": {
      "text/plain": [
       "<Axes: ylabel='Density'>"
      ]
     },
     "execution_count": 18,
     "metadata": {},
     "output_type": "execute_result"
    },
    {
     "data": {
      "image/png": "[encoded data removed]",
      "text/plain": [
       "<Figure size 640x480 with 1 Axes>"
      ]
     },
     "metadata": {},
     "output_type": "display_data"
    }
   ],
   "source": [
    "data=pd.Series((3,6,9,8,5,4,2,6,3,5,8))\n",
    "data.plot(kind='kde')"
   ]
  },
  {
   "cell_type": "code",
   "execution_count": 19,
   "metadata": {},
   "outputs": [
    {
     "data": {
      "text/plain": [
       "<Axes: ylabel='Density'>"
      ]
     },
     "execution_count": 19,
     "metadata": {},
     "output_type": "execute_result"
    },
    {
     "data": {
      "image/png": "[encoded data removed]",
      "text/plain": [
       "<Figure size 640x480 with 1 Axes>"
      ]
     },
     "metadata": {},
     "output_type": "display_data"
    }
   ],
   "source": [
    "data=pd.Series((3,6,9,8,5,4,2,6,3,5,8))\n",
    "data.plot(kind='density')"
   ]
  },
  {
   "cell_type": "markdown",
   "metadata": {},
   "source": [
    "**Plot by the area under the curve**\n",
    "- We can plot the area under the curve for our data by the area kind in the\n",
    "plot command"
   ]
  },
  {
   "cell_type": "code",
   "execution_count": 20,
   "metadata": {},
   "outputs": [
    {
     "data": {
      "text/plain": [
       "<Axes: >"
      ]
     },
     "execution_count": 20,
     "metadata": {},
     "output_type": "execute_result"
    },
    {
     "data": {
      "image/png": "[encoded data removed]",
      "text/plain": [
       "<Figure size 640x480 with 1 Axes>"
      ]
     },
     "metadata": {},
     "output_type": "display_data"
    }
   ],
   "source": [
    "data = pd.Series((3,6,9,8,5,4,2,6,3,5,8))\n",
    "data.plot(kind='area')"
   ]
  },
  {
   "cell_type": "markdown",
   "metadata": {},
   "source": [
    "## **DataFrames**"
   ]
  },
  {
   "cell_type": "markdown",
   "metadata": {},
   "source": [
    "Creating DF from array"
   ]
  },
  {
   "cell_type": "code",
   "execution_count": 21,
   "metadata": {},
   "outputs": [
    {
     "name": "stdout",
     "output_type": "stream",
     "text": [
      "   one  two  three  four  five  six\n",
      "a    6    9      8     5     4    2\n",
      "b    0    2      5     6     3    9\n",
      "c    8    5      4     1     2    3\n",
      "d    6    9      8     5     4    2\n",
      "e    0    5      3     6     9    8\n",
      "f    8    7      4     5     2    3\n"
     ]
    }
   ],
   "source": [
    "import numpy as np\n",
    "myarray = np.array([[6,9,8,5,4,2],[0,2,5,6,3,9],\n",
    "[8,5,4,1,2,3],[6,9,8,5,4,2],\n",
    "[0,5,3,6,9,8],[8,7,4,5,2,3]])\n",
    "row_names = ['a','b','c','d','e','f']\n",
    "col_names = ['one', 'two', 'three','four','five','six']\n",
    "df=pd.DataFrame(myarray , index=row_names, columns=col_names)\n",
    "print (df)"
   ]
  },
  {
   "cell_type": "markdown",
   "metadata": {},
   "source": [
    "Creating DF from list"
   ]
  },
  {
   "cell_type": "code",
   "execution_count": 22,
   "metadata": {},
   "outputs": [
    {
     "name": "stdout",
     "output_type": "stream",
     "text": [
      "      Name  Age      Occupation\n",
      "0    Alice   25        Engineer\n",
      "1      Bob   30  Data Scientist\n",
      "2  Charlie   28        Designer\n"
     ]
    }
   ],
   "source": [
    "#List of lists\n",
    "data_list = [\n",
    "    ['Alice',25,'Engineer'],\n",
    "    ['Bob',30,'Data Scientist'],\n",
    "    ['Charlie',28,'Designer']\n",
    "    ]\n",
    "#Define column names\n",
    "columns=['Name','Age','Occupation']\n",
    "\n",
    "#Create DataFrame\n",
    "df=pd.DataFrame(data_list, columns = columns)\n",
    "\n",
    "#Display DataFrame\n",
    "print(df)"
   ]
  },
  {
   "cell_type": "markdown",
   "metadata": {},
   "source": [
    "Create DF from many series"
   ]
  },
  {
   "cell_type": "code",
   "execution_count": 23,
   "metadata": {},
   "outputs": [
    {
     "name": "stdout",
     "output_type": "stream",
     "text": [
      "   Math  Physics  French  Chemistry\n",
      "a     1        6      11         16\n",
      "b     2        7      12         17\n",
      "c     3        8      13         18\n",
      "d     4        9      14         19\n",
      "e     5       10      15         20\n"
     ]
    }
   ],
   "source": [
    "w = pd.Series({'a':1 ,'b':2 ,'c':3 ,'d':4 ,'e':5})\n",
    "x = pd.Series({'a':6 ,'b':7 ,'c':8 ,'d':9 ,'e':10})\n",
    "y = pd.Series({'a':11 ,'b':12 ,'c':13 ,'d':14 ,'e':15})\n",
    "z = pd.Series({'a':16 ,'b':17 ,'c':18 ,'d':19 ,'e':20})\n",
    "\n",
    "grades = pd.DataFrame({'Math':w,'Physics':x,'French':y,'Chemistry':z})\n",
    "print(grades)"
   ]
  },
  {
   "cell_type": "markdown",
   "metadata": {},
   "source": [
    "- Alternatively, in Pandas, you can use a list to serve as the index for your\n",
    "DataFrame."
   ]
  },
  {
   "cell_type": "code",
   "execution_count": 24,
   "metadata": {},
   "outputs": [
    {
     "data": {
      "text/html": [
       "<div>\n",
       "<style scoped>\n",
       "    .dataframe tbody tr th:only-of-type {\n",
       "        vertical-align: middle;\n",
       "    }\n",
       "\n",
       "    .dataframe tbody tr th {\n",
       "        vertical-align: top;\n",
       "    }\n",
       "\n",
       "    .dataframe thead th {\n",
       "        text-align: right;\n",
       "    }\n",
       "</style>\n",
       "<table border=\"1\" class=\"dataframe\">\n",
       "  <thead>\n",
       "    <tr style=\"text-align: right;\">\n",
       "      <th></th>\n",
       "      <th>Column No 1</th>\n",
       "      <th>Column No 2</th>\n",
       "    </tr>\n",
       "  </thead>\n",
       "  <tbody>\n",
       "    <tr>\n",
       "      <th>Row no 1</th>\n",
       "      <td>3</td>\n",
       "      <td>13</td>\n",
       "    </tr>\n",
       "    <tr>\n",
       "      <th>Row no 2</th>\n",
       "      <td>5</td>\n",
       "      <td>15</td>\n",
       "    </tr>\n",
       "    <tr>\n",
       "      <th>Row no 3</th>\n",
       "      <td>6</td>\n",
       "      <td>16</td>\n",
       "    </tr>\n",
       "    <tr>\n",
       "      <th>Row no 4</th>\n",
       "      <td>0</td>\n",
       "      <td>10</td>\n",
       "    </tr>\n",
       "    <tr>\n",
       "      <th>Row no 5</th>\n",
       "      <td>18</td>\n",
       "      <td>118</td>\n",
       "    </tr>\n",
       "    <tr>\n",
       "      <th>Row no 6</th>\n",
       "      <td>38</td>\n",
       "      <td>138</td>\n",
       "    </tr>\n",
       "    <tr>\n",
       "      <th>Row no 7</th>\n",
       "      <td>48</td>\n",
       "      <td>148</td>\n",
       "    </tr>\n",
       "    <tr>\n",
       "      <th>Row no 8</th>\n",
       "      <td>54</td>\n",
       "      <td>154</td>\n",
       "    </tr>\n",
       "    <tr>\n",
       "      <th>Row no 9</th>\n",
       "      <td>3</td>\n",
       "      <td>13</td>\n",
       "    </tr>\n",
       "    <tr>\n",
       "      <th>Row no 10</th>\n",
       "      <td>5</td>\n",
       "      <td>15</td>\n",
       "    </tr>\n",
       "  </tbody>\n",
       "</table>\n",
       "</div>"
      ],
      "text/plain": [
       "           Column No 1  Column No 2\n",
       "Row no 1             3           13\n",
       "Row no 2             5           15\n",
       "Row no 3             6           16\n",
       "Row no 4             0           10\n",
       "Row no 5            18          118\n",
       "Row no 6            38          138\n",
       "Row no 7            48          148\n",
       "Row no 8            54          154\n",
       "Row no 9             3           13\n",
       "Row no 10            5           15"
      ]
     },
     "execution_count": 24,
     "metadata": {},
     "output_type": "execute_result"
    }
   ],
   "source": [
    "import pandas as pd\n",
    "data1 = pd.Index([3,5,6,0,18,38,48,54,3,5])\n",
    "data2 = pd.Index([13,15,16,10,118,138,148,154,13,15])\n",
    "row_names = [\"Row no 1\", \"Row no 2\", \"Row no 3\", \"Row no 4\", \"Row no 5\", \n",
    "             \"Row no 6\", \"Row no 7\", \"Row no 8\", \"Row no 9\", \"Row no 10\"]\n",
    "pd.DataFrame({\"Column No 1\":data1,\"Column No 2\":data2},\n",
    "             index=row_names)"
   ]
  },
  {
   "cell_type": "markdown",
   "metadata": {},
   "source": [
    "Creating DF by Dictionary Method"
   ]
  },
  {
   "cell_type": "code",
   "execution_count": 25,
   "metadata": {},
   "outputs": [
    {
     "name": "stdout",
     "output_type": "stream",
     "text": [
      "   square\n",
      "0       0\n",
      "1       1\n",
      "2       4\n",
      "3       9\n",
      "4      16\n",
      "5      25\n",
      "6      36\n",
      "7      49\n",
      "8      64\n",
      "9      81\n"
     ]
    }
   ],
   "source": [
    "data=[{'square':i**2}for i in range (10)]\n",
    "df = pd.DataFrame(data)\n",
    "\n",
    "print(df)"
   ]
  },
  {
   "cell_type": "code",
   "execution_count": 26,
   "metadata": {},
   "outputs": [
    {
     "name": "stdout",
     "output_type": "stream",
     "text": [
      "   square  cube      root\n",
      "0       0     0  0.000000\n",
      "1       1     1  1.000000\n",
      "2       4     8  1.414214\n",
      "3       9    27  1.732051\n",
      "4      16    64  2.000000\n",
      "5      25   125  2.236068\n",
      "6      36   216  2.449490\n",
      "7      49   343  2.645751\n",
      "8      64   512  2.828427\n",
      "9      81   729  3.000000\n"
     ]
    }
   ],
   "source": [
    "data = [{'square':i**2, 'cube':i**3, 'root':i**0.5} for i in range (10)]\n",
    "df = pd.DataFrame(data)\n",
    "\n",
    "print(df)"
   ]
  },
  {
   "cell_type": "code",
   "execution_count": 27,
   "metadata": {},
   "outputs": [
    {
     "name": "stdout",
     "output_type": "stream",
     "text": [
      "   a  b\n",
      "0  1  2\n",
      "1  3  4\n",
      "2  5  6\n"
     ]
    }
   ],
   "source": [
    "d = pd.DataFrame([{'a':1,'b':2},{'a':3,'b':4},{'a':5,'b':6}])\n",
    "print(d)"
   ]
  },
  {
   "cell_type": "markdown",
   "metadata": {},
   "source": [
    "if there is value missing for any element will add Nan instead"
   ]
  },
  {
   "cell_type": "code",
   "execution_count": 28,
   "metadata": {},
   "outputs": [
    {
     "name": "stdout",
     "output_type": "stream",
     "text": [
      "     a    b    c    d    e\n",
      "0  1.0  2.0  NaN  NaN  NaN\n",
      "1  NaN  3.0  4.0  NaN  NaN\n",
      "2  NaN  NaN  NaN  5.0  6.0\n"
     ]
    }
   ],
   "source": [
    "d = pd.DataFrame([{'a':1,'b':2},{'b':3,'c':4},{'d':5,'e':6}])\n",
    "print(d)"
   ]
  },
  {
   "cell_type": "code",
   "execution_count": 29,
   "metadata": {},
   "outputs": [
    {
     "name": "stdout",
     "output_type": "stream",
     "text": [
      "       food     drink\n",
      "a  0.800335  0.869475\n",
      "b  0.879297  0.177340\n",
      "c  0.575305  0.271030\n"
     ]
    }
   ],
   "source": [
    "d = pd.DataFrame(np.random.rand(3,2),\n",
    "                 columns = ['food','drink'],index = ['a','b','c'])\n",
    "print (d)"
   ]
  },
  {
   "cell_type": "markdown",
   "metadata": {},
   "source": [
    "Creating DF by function (advanced method)"
   ]
  },
  {
   "cell_type": "code",
   "execution_count": 30,
   "metadata": {},
   "outputs": [
    {
     "name": "stdout",
     "output_type": "stream",
     "text": [
      "    A   B   C\n",
      "0  A0  B0  C0\n",
      "1  A1  B1  C1\n",
      "2  A2  B2  C2\n",
      "3  A3  B3  C3\n"
     ]
    }
   ],
   "source": [
    "def make_df(cols,ind):\n",
    "    data = {c:[str(c) + str (i) for i in ind]for c in cols}\n",
    "    return pd.DataFrame(data,ind)\n",
    "\n",
    "print(make_df('ABC',range(4)))"
   ]
  },
  {
   "cell_type": "markdown",
   "metadata": {},
   "source": [
    "**Basic Operations on DataFrame**"
   ]
  },
  {
   "cell_type": "markdown",
   "metadata": {},
   "source": [
    "Slicing or accessing columns in the DF"
   ]
  },
  {
   "cell_type": "code",
   "execution_count": 31,
   "metadata": {},
   "outputs": [
    {
     "name": "stdout",
     "output_type": "stream",
     "text": [
      "   Math  Physics  French  Chemistry\n",
      "a     1        6      11         16\n",
      "b     2        7      12         17\n",
      "c     3        8      13         18\n",
      "d     4        9      14         19\n",
      "e     5       10      15         20\n",
      "a    1\n",
      "b    2\n",
      "c    3\n",
      "d    4\n",
      "e    5\n",
      "Name: Math, dtype: int64\n"
     ]
    }
   ],
   "source": [
    "w = pd.Series({'a':1 ,'b':2 ,'c':3 ,'d':4 ,'e':5})\n",
    "x = pd.Series({'a':6 ,'b':7 ,'c':8 ,'d':9 ,'e':10})\n",
    "y = pd.Series({'a':11 ,'b':12 ,'c':13 ,'d':14 ,'e':15})\n",
    "z = pd.Series({'a':16 ,'b':17 ,'c':18 ,'d':19 ,'e':20})\n",
    "\n",
    "grades = pd.DataFrame({'Math':w,'Physics':x,'French':y,'Chemistry':z})\n",
    "print(grades)\n",
    "\n",
    "print(grades['Math'])"
   ]
  },
  {
   "cell_type": "markdown",
   "metadata": {},
   "source": [
    "Transpose the DF"
   ]
  },
  {
   "cell_type": "code",
   "execution_count": 32,
   "metadata": {},
   "outputs": [
    {
     "name": "stdout",
     "output_type": "stream",
     "text": [
      "            a   b   c   d   e\n",
      "Math        1   2   3   4   5\n",
      "Physics     6   7   8   9  10\n",
      "French     11  12  13  14  15\n",
      "Chemistry  16  17  18  19  20\n"
     ]
    }
   ],
   "source": [
    "w = pd.Series({'a':1 ,'b':2 ,'c':3 ,'d':4 ,'e':5})\n",
    "x = pd.Series({'a':6 ,'b':7 ,'c':8 ,'d':9 ,'e':10})\n",
    "y = pd.Series({'a':11 ,'b':12 ,'c':13 ,'d':14 ,'e':15})\n",
    "z = pd.Series({'a':16 ,'b':17 ,'c':18 ,'d':19 ,'e':20})\n",
    "\n",
    "grades = pd.DataFrame({'Math':w,'Physics':x,'French':y,'Chemistry':z})\n",
    "print(grades.T)"
   ]
  },
  {
   "cell_type": "markdown",
   "metadata": {},
   "source": [
    "Accessing only keys or values from the DF"
   ]
  },
  {
   "cell_type": "code",
   "execution_count": 33,
   "metadata": {},
   "outputs": [
    {
     "name": "stdout",
     "output_type": "stream",
     "text": [
      "Index(['Math', 'Physics', 'French', 'Chemistry'], dtype='object')\n",
      "[[ 1  6 11 16]\n",
      " [ 2  7 12 17]\n",
      " [ 3  8 13 18]\n",
      " [ 4  9 14 19]\n",
      " [ 5 10 15 20]]\n"
     ]
    }
   ],
   "source": [
    "w = pd.Series({'a':1 ,'b':2 ,'c':3 ,'d':4 ,'e':5})\n",
    "x = pd.Series({'a':6 ,'b':7 ,'c':8 ,'d':9 ,'e':10})\n",
    "y = pd.Series({'a':11 ,'b':12 ,'c':13 ,'d':14 ,'e':15})\n",
    "z = pd.Series({'a':16 ,'b':17 ,'c':18 ,'d':19 ,'e':20})\n",
    "\n",
    "grades = pd.DataFrame({'Math':w,'Physics':x,'French':y,'Chemistry':z})\n",
    "print(grades.keys())\n",
    "print(grades.values)"
   ]
  },
  {
   "cell_type": "markdown",
   "metadata": {},
   "source": [
    "Applying conditions to specific keys or values in the DF\n",
    "- Note: Keys --> Columns header"
   ]
  },
  {
   "cell_type": "code",
   "execution_count": 34,
   "metadata": {},
   "outputs": [
    {
     "name": "stdout",
     "output_type": "stream",
     "text": [
      "            a   b   c   d   e\n",
      "Math        1   2   3   4   5\n",
      "Physics     6   7   8   9  10\n",
      "French     11  12  13  14  15\n",
      "Chemistry  16  17  18  19  20\n",
      "True\n",
      "True\n",
      "False\n"
     ]
    }
   ],
   "source": [
    "w = pd.Series({'a':1 ,'b':2 ,'c':3 ,'d':4 ,'e':5})\n",
    "x = pd.Series({'a':6 ,'b':7 ,'c':8 ,'d':9 ,'e':10})\n",
    "y = pd.Series({'a':11 ,'b':12 ,'c':13 ,'d':14 ,'e':15})\n",
    "z = pd.Series({'a':16 ,'b':17 ,'c':18 ,'d':19 ,'e':20})\n",
    "\n",
    "grades = pd.DataFrame({'Math':w,'Physics':x,'French':y,'Chemistry':z})\n",
    "print(grades.T)\n",
    "\n",
    "print ('Math' in grades.keys())\n",
    "print (12 in grades.values)\n",
    "print (55 in grades.values)"
   ]
  },
  {
   "cell_type": "markdown",
   "metadata": {},
   "source": [
    "Vertical representation of elements with keys and values"
   ]
  },
  {
   "cell_type": "code",
   "execution_count": 35,
   "metadata": {},
   "outputs": [
    {
     "name": "stdout",
     "output_type": "stream",
     "text": [
      "a  Math          1\n",
      "   Physics       6\n",
      "   French       11\n",
      "   Chemistry    16\n",
      "b  Math          2\n",
      "   Physics       7\n",
      "   French       12\n",
      "   Chemistry    17\n",
      "c  Math          3\n",
      "   Physics       8\n",
      "   French       13\n",
      "   Chemistry    18\n",
      "d  Math          4\n",
      "   Physics       9\n",
      "   French       14\n",
      "   Chemistry    19\n",
      "e  Math          5\n",
      "   Physics      10\n",
      "   French       15\n",
      "   Chemistry    20\n",
      "dtype: int64\n"
     ]
    }
   ],
   "source": [
    "w = pd.Series({'a':1 ,'b':2 ,'c':3 ,'d':4 ,'e':5})\n",
    "x = pd.Series({'a':6 ,'b':7 ,'c':8 ,'d':9 ,'e':10})\n",
    "y = pd.Series({'a':11 ,'b':12 ,'c':13 ,'d':14 ,'e':15})\n",
    "z = pd.Series({'a':16 ,'b':17 ,'c':18 ,'d':19 ,'e':20})\n",
    "\n",
    "grades = pd.DataFrame({'Math':w,'Physics':x,'French':y,'Chemistry':z})\n",
    "\n",
    "print (grades.stack())"
   ]
  },
  {
   "cell_type": "markdown",
   "metadata": {},
   "source": [
    "**Locating specific elements for slicing and searching within the DF**\n",
    "\n",
    "- **Method 1: iloc (i for index)** - It locates the position by index, similar to the method we\n",
    "are familiar with in lists.\n",
    "- **Method 2: loc** - You need to specify the names of the elements, rows, and columns\n",
    "you are searching for."
   ]
  },
  {
   "cell_type": "markdown",
   "metadata": {},
   "source": [
    "Method 1:iloc"
   ]
  },
  {
   "cell_type": "code",
   "execution_count": 36,
   "metadata": {},
   "outputs": [
    {
     "name": "stdout",
     "output_type": "stream",
     "text": [
      "   Math  Physics\n",
      "a     1        6\n",
      "b     2        7\n",
      "c     3        8\n"
     ]
    }
   ],
   "source": [
    "w = pd.Series({'a':1 ,'b':2 ,'c':3 ,'d':4 ,'e':5})\n",
    "x = pd.Series({'a':6 ,'b':7 ,'c':8 ,'d':9 ,'e':10})\n",
    "y = pd.Series({'a':11 ,'b':12 ,'c':13 ,'d':14 ,'e':15})\n",
    "z = pd.Series({'a':16 ,'b':17 ,'c':18 ,'d':19 ,'e':20})\n",
    "\n",
    "grades = pd.DataFrame({'Math':w,'Physics':x,'French':y,'Chemistry':z})\n",
    "\n",
    "#3 = Row, 2 = col\n",
    "print(grades.iloc[:3,:2])"
   ]
  },
  {
   "cell_type": "markdown",
   "metadata": {},
   "source": [
    "Method 2: loc"
   ]
  },
  {
   "cell_type": "code",
   "execution_count": 37,
   "metadata": {},
   "outputs": [
    {
     "name": "stdout",
     "output_type": "stream",
     "text": [
      "   Math  Physics  French  Chemistry\n",
      "a     1        6      11         16\n",
      "b     2        7      12         17\n",
      "c     3        8      13         18\n",
      "d     4        9      14         19\n",
      "e     5       10      15         20\n",
      "   Math  Physics  French  Chemistry\n",
      "b     2        7      12         17\n",
      "c     3        8      13         18\n"
     ]
    }
   ],
   "source": [
    "w = pd.Series({'a':1 ,'b':2 ,'c':3 ,'d':4 ,'e':5})\n",
    "x = pd.Series({'a':6 ,'b':7 ,'c':8 ,'d':9 ,'e':10})\n",
    "y = pd.Series({'a':11 ,'b':12 ,'c':13 ,'d':14 ,'e':15})\n",
    "z = pd.Series({'a':16 ,'b':17 ,'c':18 ,'d':19 ,'e':20})\n",
    "\n",
    "grades = pd.DataFrame({'Math':w,'Physics':x,'French':y,'Chemistry':z})\n",
    "\n",
    "print(grades)\n",
    "print(grades.loc['b':'c', 'Math':])"
   ]
  },
  {
   "cell_type": "markdown",
   "metadata": {},
   "source": [
    "Apply conditions with loc command"
   ]
  },
  {
   "cell_type": "code",
   "execution_count": 38,
   "metadata": {},
   "outputs": [
    {
     "name": "stdout",
     "output_type": "stream",
     "text": [
      "   Math  Physics  French  Chemistry\n",
      "a     1        6      11         16\n",
      "b     2        7      12         17\n",
      "c     3        8      13         18\n",
      "d     4        9      14         19\n",
      "e     5       10      15         20\n",
      "   Math  Physics  French  Chemistry\n",
      "d     4        9      14         19\n",
      "e     5       10      15         20\n"
     ]
    }
   ],
   "source": [
    "w = pd.Series({'a':1 ,'b':2 ,'c':3 ,'d':4 ,'e':5})\n",
    "x = pd.Series({'a':6 ,'b':7 ,'c':8 ,'d':9 ,'e':10})\n",
    "y = pd.Series({'a':11 ,'b':12 ,'c':13 ,'d':14 ,'e':15})\n",
    "z = pd.Series({'a':16 ,'b':17 ,'c':18 ,'d':19 ,'e':20})\n",
    "\n",
    "grades = pd.DataFrame({'Math':w,'Physics':x,'French':y,'Chemistry':z})\n",
    "\n",
    "print (grades)\n",
    "\n",
    "print(grades.loc[grades.Math >3])"
   ]
  },
  {
   "cell_type": "markdown",
   "metadata": {},
   "source": [
    "Applying conditions to rows and selecting specific columns for display\n",
    "using the loc command."
   ]
  },
  {
   "cell_type": "code",
   "execution_count": 39,
   "metadata": {},
   "outputs": [
    {
     "name": "stdout",
     "output_type": "stream",
     "text": [
      "   French  Math\n",
      "d      14     4\n",
      "e      15     5\n"
     ]
    }
   ],
   "source": [
    "w = pd.Series({'a':1 ,'b':2 ,'c':3 ,'d':4 ,'e':5})\n",
    "x = pd.Series({'a':6 ,'b':7 ,'c':8 ,'d':9 ,'e':10})\n",
    "y = pd.Series({'a':11 ,'b':12 ,'c':13 ,'d':14 ,'e':15})\n",
    "z = pd.Series({'a':16 ,'b':17 ,'c':18 ,'d':19 ,'e':20})\n",
    "\n",
    "grades = pd.DataFrame({'Math':w,'Physics':x,'French':y,'Chemistry':z})\n",
    "\n",
    "print(grades.loc[grades.Math>3,['French','Math']])"
   ]
  },
  {
   "cell_type": "markdown",
   "metadata": {},
   "source": [
    "Access names of all columns and the index in the DF"
   ]
  },
  {
   "cell_type": "code",
   "execution_count": 40,
   "metadata": {},
   "outputs": [
    {
     "name": "stdout",
     "output_type": "stream",
     "text": [
      "Index(['Math', 'Physics', 'French', 'Chemistry'], dtype='object')\n",
      "Index(['a', 'b', 'c', 'd', 'e'], dtype='object')\n"
     ]
    }
   ],
   "source": [
    "w = pd.Series({'a':1 ,'b':2 ,'c':3 ,'d':4 ,'e':5})\n",
    "x = pd.Series({'a':6 ,'b':7 ,'c':8 ,'d':9 ,'e':10})\n",
    "y = pd.Series({'a':11 ,'b':12 ,'c':13 ,'d':14 ,'e':15})\n",
    "z = pd.Series({'a':16 ,'b':17 ,'c':18 ,'d':19 ,'e':20})\n",
    "\n",
    "grades = pd.DataFrame({'Math':w,'Physics':x,'French':y,'Chemistry':z})\n",
    "\n",
    "print(grades.columns) #Same as df.keys()\n",
    "print(grades.index)"
   ]
  },
  {
   "cell_type": "code",
   "execution_count": 41,
   "metadata": {},
   "outputs": [
    {
     "name": "stdout",
     "output_type": "stream",
     "text": [
      "a    1\n",
      "b    2\n",
      "c    3\n",
      "d    4\n",
      "e    5\n",
      "Name: Math, dtype: int64\n"
     ]
    }
   ],
   "source": [
    "w = pd.Series({'a':1 ,'b':2 ,'c':3 ,'d':4 ,'e':5})\n",
    "x = pd.Series({'a':6 ,'b':7 ,'c':8 ,'d':9 ,'e':10})\n",
    "y = pd.Series({'a':11 ,'b':12 ,'c':13 ,'d':14 ,'e':15})\n",
    "z = pd.Series({'a':16 ,'b':17 ,'c':18 ,'d':19 ,'e':20})\n",
    "\n",
    "grades = pd.DataFrame({'Math':w,'Physics':x,'French':y,'Chemistry':z})\n",
    "\n",
    "print(grades['Math'])"
   ]
  },
  {
   "cell_type": "markdown",
   "metadata": {},
   "source": [
    "Example: Changing the index to one of the columns in the DF"
   ]
  },
  {
   "cell_type": "code",
   "execution_count": 42,
   "metadata": {},
   "outputs": [
    {
     "name": "stdout",
     "output_type": "stream",
     "text": [
      "  employee        group\n",
      "0      Bob   Accounting\n",
      "1     Jake  Engineering\n",
      "2     Lisa  Engineering\n",
      "3      Sue           HR\n",
      "                group\n",
      "employee             \n",
      "Bob        Accounting\n",
      "Jake      Engineering\n",
      "Lisa      Engineering\n",
      "Sue                HR\n"
     ]
    }
   ],
   "source": [
    "df1 = pd.DataFrame({'employee':['Bob','Jake','Lisa','Sue'],\n",
    "                    'group':['Accounting','Engineering','Engineering','HR']})\n",
    "df2 = pd.DataFrame({'employee':['Lisa','Bob','Jake','Sue'],\n",
    "                    'hire_date':[2004,2008,2012,2014]})\n",
    "df3 = pd.DataFrame({'name':['Bob','Jake','Lisa','Sue'],\n",
    "                    'Salary':[70000,80000,120000,90000]})\n",
    "print(df1)\n",
    "\n",
    "df2 = df1.set_index('employee')\n",
    "\n",
    "print(df2)"
   ]
  },
  {
   "cell_type": "markdown",
   "metadata": {},
   "source": [
    "Sort the elements in the DF\n",
    "- Sorting the DataFrame based on the values of a specific column in ascending or\n",
    "descending order (using the parameter ascending=False if needed)."
   ]
  },
  {
   "cell_type": "code",
   "execution_count": 43,
   "metadata": {},
   "outputs": [
    {
     "name": "stdout",
     "output_type": "stream",
     "text": [
      "   Math  Physics  French  Chemistry\n",
      "e     5       10      15         20\n",
      "d     4        9      14         19\n",
      "c     3        8      13         18\n",
      "b     2        7      12         17\n",
      "a     1        6      11         16\n",
      "   Math  Physics  French  Chemistry\n",
      "a     1        6      11         16\n",
      "b     2        7      12         17\n",
      "c     3        8      13         18\n",
      "d     4        9      14         19\n",
      "e     5       10      15         20\n"
     ]
    }
   ],
   "source": [
    "w = pd.Series({'a':1 ,'b':2 ,'c':3 ,'d':4 ,'e':5})\n",
    "x = pd.Series({'a':6 ,'b':7 ,'c':8 ,'d':9 ,'e':10})\n",
    "y = pd.Series({'a':11 ,'b':12 ,'c':13 ,'d':14 ,'e':15})\n",
    "z = pd.Series({'a':16 ,'b':17 ,'c':18 ,'d':19 ,'e':20})\n",
    "\n",
    "grades = pd.DataFrame({'Math':w,'Physics':x,'French':y,'Chemistry':z})\n",
    "\n",
    "print(grades.sort_values(['Math'],ascending = False))\n",
    "print(grades.sort_values(['French'],ascending = True))"
   ]
  },
  {
   "cell_type": "markdown",
   "metadata": {},
   "source": [
    "Statistics for the entire DF or per column"
   ]
  },
  {
   "cell_type": "code",
   "execution_count": 44,
   "metadata": {},
   "outputs": [
    {
     "name": "stdout",
     "output_type": "stream",
     "text": [
      "The Max. for DF all columns\n",
      " Math          5\n",
      "Physics      10\n",
      "French       15\n",
      "Chemistry    20\n",
      "dtype: int64\n",
      "The Min. for DF all columns\n",
      " Math          1\n",
      "Physics       6\n",
      "French       11\n",
      "Chemistry    16\n",
      "dtype: int64\n",
      "The Mean for DF all columns\n",
      " Math          3.0\n",
      "Physics       8.0\n",
      "French       13.0\n",
      "Chemistry    18.0\n",
      "dtype: float64\n",
      "The std. for DF all columns\n",
      " Math         1.581139\n",
      "Physics      1.581139\n",
      "French       1.581139\n",
      "Chemistry    1.581139\n",
      "dtype: float64\n"
     ]
    }
   ],
   "source": [
    "w = pd.Series({'a':1 ,'b':2 ,'c':3 ,'d':4 ,'e':5})\n",
    "x = pd.Series({'a':6 ,'b':7 ,'c':8 ,'d':9 ,'e':10})\n",
    "y = pd.Series({'a':11 ,'b':12 ,'c':13 ,'d':14 ,'e':15})\n",
    "z = pd.Series({'a':16 ,'b':17 ,'c':18 ,'d':19 ,'e':20})\n",
    "\n",
    "grades = pd.DataFrame({'Math':w,'Physics':x,'French':y,'Chemistry':z})\n",
    "\n",
    "print(\"The Max. for DF all columns\\n\",grades.max())\n",
    "print(\"The Min. for DF all columns\\n\",grades.min())\n",
    "print(\"The Mean for DF all columns\\n\",grades.mean())\n",
    "print(\"The std. for DF all columns\\n\",grades.std())"
   ]
  },
  {
   "cell_type": "code",
   "execution_count": 45,
   "metadata": {},
   "outputs": [
    {
     "name": "stdout",
     "output_type": "stream",
     "text": [
      "5\n",
      "11\n",
      "8.0\n",
      "1.5811388300841898\n"
     ]
    }
   ],
   "source": [
    "w = pd.Series({'a':1 ,'b':2 ,'c':3 ,'d':4 ,'e':5})\n",
    "x = pd.Series({'a':6 ,'b':7 ,'c':8 ,'d':9 ,'e':10})\n",
    "y = pd.Series({'a':11 ,'b':12 ,'c':13 ,'d':14 ,'e':15})\n",
    "z = pd.Series({'a':16 ,'b':17 ,'c':18 ,'d':19 ,'e':20})\n",
    "\n",
    "grades = pd.DataFrame({'Math':w,'Physics':x,'French':y,'Chemistry':z})\n",
    "\n",
    "print(grades['Math'].max())\n",
    "print(grades['French'].min())\n",
    "print(grades['Physics'].mean())\n",
    "print(grades['Chemistry'].std())"
   ]
  },
  {
   "cell_type": "markdown",
   "metadata": {},
   "source": [
    "The correlation between elements in the DF\n",
    "- When the numbers are closely aligned, the correlation tends to approach 1, and\n",
    "conversely, when they are distant, the correlation tends to be closer to -1."
   ]
  },
  {
   "cell_type": "code",
   "execution_count": 46,
   "metadata": {},
   "outputs": [
    {
     "name": "stdout",
     "output_type": "stream",
     "text": [
      "          A         B         C\n",
      "0  0.755069  0.094514  0.712644\n",
      "1  0.926892  0.738100  0.940093\n",
      "2  0.119626  0.755572  0.026420\n",
      "3  0.673878  0.164243  0.778027\n",
      "4  0.628391  0.614700  0.417767\n",
      "          A         B         C\n",
      "A  1.000000 -0.327413  0.951804\n",
      "B -0.327413  1.000000 -0.423933\n",
      "C  0.951804 -0.423933  1.000000\n"
     ]
    }
   ],
   "source": [
    "df = pd.DataFrame(np.random.rand(5,3),columns = ['A','B','C'])\n",
    "print(df)\n",
    "print(df.corr())"
   ]
  },
  {
   "cell_type": "markdown",
   "metadata": {},
   "source": [
    "The skewness among the elements of each column in the DF\n",
    "- The df.skew() function yields a Series, providing one value for each column in the\n",
    "DataFrame. These Series values represent the skewness of each corresponding\n",
    "column."
   ]
  },
  {
   "cell_type": "code",
   "execution_count": 47,
   "metadata": {},
   "outputs": [
    {
     "name": "stdout",
     "output_type": "stream",
     "text": [
      "          A         B         C\n",
      "0  0.348929  0.740817  0.186297\n",
      "1  0.715072  0.011649  0.812763\n",
      "2  0.147530  0.651230  0.961521\n",
      "3  0.903091  0.872246  0.750717\n",
      "4  0.262098  0.088298  0.305175\n",
      "A    0.573943\n",
      "B   -0.448885\n",
      "C   -0.438937\n",
      "dtype: float64\n"
     ]
    }
   ],
   "source": [
    "df = pd.DataFrame(np.random.rand(5,3), \n",
    "                  columns = ['A','B','C'])\n",
    "print(df)\n",
    "print(df.skew())"
   ]
  },
  {
   "cell_type": "markdown",
   "metadata": {},
   "source": [
    "Arithmetic operations between Columns\n",
    "- Applying the arithmetic operation directly\n",
    "- Utilizing the DataFrame method ( eval )."
   ]
  },
  {
   "cell_type": "code",
   "execution_count": 48,
   "metadata": {},
   "outputs": [
    {
     "name": "stdout",
     "output_type": "stream",
     "text": [
      "   Math  Physics  French  Chemistry  Total\n",
      "a     1        6      11         16   0.34\n",
      "b     2        7      12         17   0.38\n",
      "c     3        8      13         18   0.42\n",
      "d     4        9      14         19   0.46\n",
      "e     5       10      15         20   0.50\n"
     ]
    }
   ],
   "source": [
    "w = pd.Series({'a':1 ,'b':2 ,'c':3 ,'d':4 ,'e':5})\n",
    "x = pd.Series({'a':6 ,'b':7 ,'c':8 ,'d':9 ,'e':10})\n",
    "y = pd.Series({'a':11 ,'b':12 ,'c':13 ,'d':14 ,'e':15})\n",
    "z = pd.Series({'a':16 ,'b':17 ,'c':18 ,'d':19 ,'e':20})\n",
    "\n",
    "grades = pd.DataFrame({'Math':w,'Physics':x,'French':y,'Chemistry':z})\n",
    "\n",
    "grades['Total'] = (grades['Math'] + grades['French'] + grades['Chemistry'] + grades['Physics'])/100\n",
    "\n",
    "print (grades)"
   ]
  },
  {
   "cell_type": "markdown",
   "metadata": {},
   "source": [
    "Performing calculations through direct arithmetic operations"
   ]
  },
  {
   "cell_type": "code",
   "execution_count": 49,
   "metadata": {},
   "outputs": [
    {
     "name": "stdout",
     "output_type": "stream",
     "text": [
      "          A         B         C\n",
      "0  0.806804  0.679424  0.516033\n",
      "1  0.630938  0.739304  0.725410\n",
      "2  0.550038  0.557141  0.940820\n",
      "3  0.821673  0.573508  0.460296\n",
      "4  0.976840  0.024328  0.698266\n",
      "0    -3.070924\n",
      "1    -4.990146\n",
      "2   -18.708575\n",
      "3    -2.585089\n",
      "4    -3.318050\n",
      "dtype: float64\n"
     ]
    }
   ],
   "source": [
    "df = pd.DataFrame(np.random.rand(5,3),\n",
    "                  columns = ['A','B','C'])\n",
    "result = (df['A'] + df['B']) / (df['C'] - 1)\n",
    "\n",
    "print(df)\n",
    "print(result)"
   ]
  },
  {
   "cell_type": "markdown",
   "metadata": {},
   "source": [
    "Performing calculations using the evaluation method of Pandas"
   ]
  },
  {
   "cell_type": "code",
   "execution_count": 50,
   "metadata": {},
   "outputs": [
    {
     "name": "stdout",
     "output_type": "stream",
     "text": [
      "          A         B         C\n",
      "0  0.610203  0.299908  0.933779\n",
      "1  0.955708  0.036962  0.089889\n",
      "2  0.895207  0.368852  0.138383\n",
      "3  0.078084  0.697051  0.972203\n",
      "4  0.262003  0.031610  0.748121\n",
      "0   -13.743445\n",
      "1    -1.090713\n",
      "2    -1.467078\n",
      "3   -27.885406\n",
      "4    -1.165687\n",
      "dtype: float64\n"
     ]
    }
   ],
   "source": [
    "df = pd.DataFrame(np.random.rand(5, 3), \n",
    "                  columns=['A', 'B', 'C']) \n",
    "result = pd.eval(\"(df.A + df.B) / (df.C - 1)\")\n",
    "\n",
    "print(df)\n",
    "print(result)"
   ]
  },
  {
   "cell_type": "markdown",
   "metadata": {},
   "source": [
    "Selecting a Specific Row by Conditions\n",
    "- when utilizing the Pandas method, remember to express the operation as text."
   ]
  },
  {
   "cell_type": "code",
   "execution_count": 51,
   "metadata": {},
   "outputs": [
    {
     "name": "stdout",
     "output_type": "stream",
     "text": [
      "          A         B         C\n",
      "0  0.321285  0.241157  0.225010\n",
      "1  0.855996  0.168978  0.813438\n",
      "2  0.416975  0.186490  0.972217\n",
      "3  0.387232  0.737561  0.428660\n",
      "4  0.134039  0.908120  0.798845\n",
      "          A         B         C\n",
      "0  0.321285  0.241157  0.225010\n",
      "2  0.416975  0.186490  0.972217\n"
     ]
    }
   ],
   "source": [
    "df = pd.DataFrame(np.random.rand(5,3),\n",
    "                  columns = ['A','B','C'])\n",
    "result = df.query('A < 0.5 and B < 0.5')\n",
    "\n",
    "print(df)\n",
    "print(result)"
   ]
  },
  {
   "cell_type": "code",
   "execution_count": 52,
   "metadata": {},
   "outputs": [
    {
     "name": "stdout",
     "output_type": "stream",
     "text": [
      "          A         B         C\n",
      "0  0.154934  0.690831  0.667957\n",
      "1  0.286067  0.692496  0.829906\n",
      "2  0.304584  0.537694  0.598494\n",
      "3  0.775116  0.391737  0.532316\n",
      "4  0.749790  0.139100  0.047878\n",
      "Empty DataFrame\n",
      "Columns: [A, B, C]\n",
      "Index: []\n",
      "Empty DataFrame\n",
      "Columns: [A, B, C]\n",
      "Index: []\n",
      "          A         B         C\n",
      "0  0.154934  0.690831  0.667957\n",
      "1  0.286067  0.692496  0.829906\n",
      "2  0.304584  0.537694  0.598494\n",
      "3  0.775116  0.391737  0.532316\n",
      "4  0.749790  0.139100  0.047878\n"
     ]
    }
   ],
   "source": [
    "df = pd.DataFrame(np.random.rand(5,3),\n",
    "                  columns = ['A','B','C'])\n",
    "tmp1 = df.A < 0.5\n",
    "tmp2 = df.B < 0.5\n",
    "tmp3 = tmp1 & tmp2\n",
    "\n",
    "result1 = df[tmp3]\n",
    "result2 = df[(df.A < 0.5) & (df.B < 0.5)]\n",
    "result3 = df[(df.A < 0.5) | (df.B < 0.5)] # this sign \"|\" mean \"or\"\n",
    "\n",
    "print(df)\n",
    "print(result1)\n",
    "print(result2)\n",
    "print(result3)"
   ]
  },
  {
   "cell_type": "code",
   "execution_count": 53,
   "metadata": {},
   "outputs": [
    {
     "name": "stdout",
     "output_type": "stream",
     "text": [
      "          A         B         C\n",
      "0  0.670326  0.601047  0.395508\n",
      "1  0.877469  0.523589  0.587612\n",
      "2  0.266387  0.928759  0.610566\n",
      "3  0.784701  0.806123  0.100696\n",
      "4  0.507741  0.655654  0.983296\n",
      "          A         B         C\n",
      "2  0.266387  0.928759  0.610566\n"
     ]
    }
   ],
   "source": [
    "df = pd.DataFrame(np.random.rand(5,3),\n",
    "                  columns = ['A','B','C'])\n",
    "result = df[(df.A < 0.5) | (df.B < 0.5)] # this sign \"|\" mean \"or\"\n",
    "\n",
    "print(df)\n",
    "print(result)"
   ]
  },
  {
   "cell_type": "markdown",
   "metadata": {},
   "source": [
    "**Table Concatenation and Merging**\n",
    "\n",
    "The concat() function does all of the heavy lifting of performing concatenation\n",
    "operations along an axis while performing optional set logic (union or intersection) of\n",
    "the indexes (if any) on the other axes.\n",
    "\n",
    "How Concatenation working"
   ]
  },
  {
   "cell_type": "code",
   "execution_count": 54,
   "metadata": {},
   "outputs": [
    {
     "name": "stdout",
     "output_type": "stream",
     "text": [
      "      A    B    C    D\n",
      "0    A0   B0   C0   D0\n",
      "1    A1   B1   C1   D1\n",
      "2    A2   B2   C2   D2\n",
      "3    A3   B3   C3   D3\n",
      "4    A4   B4   C4   D4\n",
      "5    A5   B5   C5   D5\n",
      "6    A6   B6   C6   D6\n",
      "7    A7   B7   C7   D7\n",
      "8    A8   B8   C8   D8\n",
      "9    A9   B9   C9   D9\n",
      "10  A10  B10  C10  D10\n",
      "11  A11  B11  C11  D11\n"
     ]
    }
   ],
   "source": [
    "df1 = pd.DataFrame(\n",
    "{\n",
    "\"A\": [\"A0\", \"A1\", \"A2\", \"A3\"],\n",
    "\"B\": [\"B0\", \"B1\", \"B2\", \"B3\"],\n",
    "\"C\": [\"C0\", \"C1\", \"C2\", \"C3\"],\n",
    "\"D\": [\"D0\", \"D1\", \"D2\", \"D3\"],\n",
    "},\n",
    "    index=[0, 1, 2, 3],\n",
    ")\n",
    "\n",
    "df2 = pd.DataFrame(\n",
    "{\n",
    "\"A\": [\"A4\", \"A5\", \"A6\", \"A7\"],\n",
    "\"B\": [\"B4\", \"B5\", \"B6\", \"B7\"],\n",
    "\"C\": [\"C4\", \"C5\", \"C6\", \"C7\"],\n",
    "\"D\": [\"D4\", \"D5\", \"D6\", \"D7\"],\n",
    "},\n",
    "    index=[4, 5, 6, 7],\n",
    ")\n",
    "\n",
    "df3 = pd.DataFrame(\n",
    "{\n",
    "\"A\": [\"A8\", \"A9\", \"A10\", \"A11\"],\n",
    "\"B\": [\"B8\", \"B9\", \"B10\", \"B11\"],\n",
    "\"C\": [\"C8\", \"C9\", \"C10\", \"C11\"],\n",
    "\"D\": [\"D8\", \"D9\", \"D10\", \"D11\"],\n",
    "},\n",
    "    index=[8, 9, 10, 11],\n",
    ")\n",
    "\n",
    "frames = [df1,df2,df3]\n",
    "result = pd.concat(frames)\n",
    "\n",
    "print(result)"
   ]
  },
  {
   "cell_type": "markdown",
   "metadata": {},
   "source": [
    "Add key for each DF in the result"
   ]
  },
  {
   "cell_type": "code",
   "execution_count": 55,
   "metadata": {},
   "outputs": [
    {
     "name": "stdout",
     "output_type": "stream",
     "text": [
      "        A    B    C    D\n",
      "x 0    A0   B0   C0   D0\n",
      "  1    A1   B1   C1   D1\n",
      "  2    A2   B2   C2   D2\n",
      "  3    A3   B3   C3   D3\n",
      "y 4    A4   B4   C4   D4\n",
      "  5    A5   B5   C5   D5\n",
      "  6    A6   B6   C6   D6\n",
      "  7    A7   B7   C7   D7\n",
      "z 8    A8   B8   C8   D8\n",
      "  9    A9   B9   C9   D9\n",
      "  10  A10  B10  C10  D10\n",
      "  11  A11  B11  C11  D11\n"
     ]
    }
   ],
   "source": [
    "result = pd.concat(frames,keys = [\"x\",\"y\",\"z\"])\n",
    "\n",
    "print (result)"
   ]
  },
  {
   "cell_type": "markdown",
   "metadata": {},
   "source": [
    "Set logic on the other axes (join outer and inner)\n",
    "- Take the union of them all, join='outer'. This is the default option as it results in\n",
    "zero information loss.\n",
    "- Take the intersection, join='inner'.\n",
    "\n",
    "How joining outer working"
   ]
  },
  {
   "cell_type": "code",
   "execution_count": 56,
   "metadata": {},
   "outputs": [
    {
     "name": "stdout",
     "output_type": "stream",
     "text": [
      "     A    B    C    D    B    D    F\n",
      "0   A0   B0   C0   D0  NaN  NaN  NaN\n",
      "1   A1   B1   C1   D1  NaN  NaN  NaN\n",
      "2   A2   B2   C2   D2   B2   D2   F2\n",
      "3   A3   B3   C3   D3   B3   D3   F3\n",
      "6  NaN  NaN  NaN  NaN   B6   D6   F6\n",
      "7  NaN  NaN  NaN  NaN   B7   D7   F7\n"
     ]
    }
   ],
   "source": [
    "df4 = pd.DataFrame(\n",
    "{\n",
    "\"B\": [\"B2\", \"B3\", \"B6\", \"B7\"],\n",
    "\"D\": [\"D2\", \"D3\", \"D6\", \"D7\"],\n",
    "\"F\": [\"F2\", \"F3\", \"F6\", \"F7\"],\n",
    "},\n",
    "    index=[2, 3, 6, 7],\n",
    ")\n",
    "\n",
    "result = pd.concat([df1,df4],axis=1)\n",
    "\n",
    "print(result)"
   ]
  },
  {
   "cell_type": "markdown",
   "metadata": {},
   "source": [
    "Example for the inner case"
   ]
  },
  {
   "cell_type": "code",
   "execution_count": 57,
   "metadata": {},
   "outputs": [
    {
     "name": "stdout",
     "output_type": "stream",
     "text": [
      "    A   B   C   D   B   D   F\n",
      "2  A2  B2  C2  D2  B2  D2  F2\n",
      "3  A3  B3  C3  D3  B3  D3  F3\n"
     ]
    }
   ],
   "source": [
    "df1 = pd.DataFrame(\n",
    "{\n",
    "\"A\": [\"A0\", \"A1\", \"A2\", \"A3\"],\n",
    "\"B\": [\"B0\", \"B1\", \"B2\", \"B3\"],\n",
    "\"C\": [\"C0\", \"C1\", \"C2\", \"C3\"],\n",
    "\"D\": [\"D0\", \"D1\", \"D2\", \"D3\"],\n",
    "},\n",
    "    index=[0, 1, 2, 3],\n",
    ")\n",
    "\n",
    "df4 = pd.DataFrame(\n",
    "{\n",
    "\"B\": [\"B2\", \"B3\", \"B6\", \"B7\"],\n",
    "\"D\": [\"D2\", \"D3\", \"D6\", \"D7\"],\n",
    "\"F\": [\"F2\", \"F3\", \"F6\", \"F7\"],\n",
    "},\n",
    "    index=[2, 3, 6, 7],\n",
    ")\n",
    "\n",
    "result = pd.concat([df1, df4], axis=1, join=\"inner\")\n",
    "print(result)"
   ]
  },
  {
   "cell_type": "markdown",
   "metadata": {},
   "source": [
    "Ignoring indexes on the concatenation axis"
   ]
  },
  {
   "cell_type": "code",
   "execution_count": 58,
   "metadata": {},
   "outputs": [
    {
     "name": "stdout",
     "output_type": "stream",
     "text": [
      "     A   B    C   D    F\n",
      "0   A0  B0   C0  D0  NaN\n",
      "1   A1  B1   C1  D1  NaN\n",
      "2   A2  B2   C2  D2  NaN\n",
      "3   A3  B3   C3  D3  NaN\n",
      "4  NaN  B2  NaN  D2   F2\n",
      "5  NaN  B3  NaN  D3   F3\n",
      "6  NaN  B6  NaN  D6   F6\n",
      "7  NaN  B7  NaN  D7   F7\n"
     ]
    }
   ],
   "source": [
    "result = pd.concat([df1, df4], ignore_index=True, sort = False)\n",
    "print(result)"
   ]
  },
  {
   "cell_type": "markdown",
   "metadata": {},
   "source": [
    "Merging DataFrames"
   ]
  },
  {
   "cell_type": "code",
   "execution_count": 59,
   "metadata": {},
   "outputs": [
    {
     "name": "stdout",
     "output_type": "stream",
     "text": [
      "  employee        group\n",
      "0      Bob   Accounting\n",
      "1     Jake  Engineering\n",
      "2     Lisa  Engineering\n",
      "3      Sue           HR\n",
      "  employee  hire_date\n",
      "0     Lisa       2004\n",
      "1      Bob       2008\n",
      "2     Jake       2012\n",
      "3      Sue       2014\n",
      "------------------------------------\n",
      "  employee        group  hire_date\n",
      "0      Bob   Accounting       2008\n",
      "1     Jake  Engineering       2012\n",
      "2     Lisa  Engineering       2004\n",
      "3      Sue           HR       2014\n"
     ]
    }
   ],
   "source": [
    "df1 = pd.DataFrame({'employee': ['Bob', 'Jake', 'Lisa', 'Sue'],\n",
    "                    'group': ['Accounting', 'Engineering','Engineering', 'HR']})\n",
    "\n",
    "df2 = pd.DataFrame({'employee': ['Lisa', 'Bob', 'Jake', 'Sue'],\n",
    "                    'hire_date': [2004, 2008, 2012, 2014]})\n",
    "\n",
    "print(df1)\n",
    "print(df2)\n",
    "df3 = pd.merge(df1,df2)\n",
    "print('------------------------------------')\n",
    "print(df3)"
   ]
  },
  {
   "cell_type": "code",
   "execution_count": 60,
   "metadata": {},
   "outputs": [
    {
     "name": "stdout",
     "output_type": "stream",
     "text": [
      "  employee        group  hire_date\n",
      "0      Bob   Accounting       2008\n",
      "1     Jake  Engineering       2012\n",
      "2     Lisa  Engineering       2004\n",
      "3      Sue           HR       2014\n",
      "------------------------------------\n",
      "         group supervisor\n",
      "0   Accounting      Carly\n",
      "1  Engineering      Guido\n",
      "2           HR      Steve\n",
      "------------------------------------\n",
      "  employee        group  hire_date supervisor\n",
      "0      Bob   Accounting       2008      Carly\n",
      "1     Jake  Engineering       2012      Guido\n",
      "2     Lisa  Engineering       2004      Guido\n",
      "3      Sue           HR       2014      Steve\n"
     ]
    }
   ],
   "source": [
    "df1 = pd.DataFrame({'employee': ['Bob', 'Jake', 'Lisa', 'Sue'],\n",
    "                    'group': ['Accounting', 'Engineering','Engineering', 'HR']})\n",
    "\n",
    "df2 = pd.DataFrame({'employee': ['Lisa', 'Bob', 'Jake', 'Sue'],\n",
    "                    'hire_date': [2004, 2008, 2012, 2014]})\n",
    "df3 = pd.merge(df1, df2)\n",
    "print(df3)\n",
    "print('------------------------------------')\n",
    "\n",
    "df4 = pd.DataFrame({'group': ['Accounting', 'Engineering', 'HR'],\n",
    "                    'supervisor': ['Carly', 'Guido', 'Steve']})\n",
    "df5 = pd.merge(df3,df4)\n",
    "\n",
    "print(df4)\n",
    "print('------------------------------------')\n",
    "print(df5)"
   ]
  },
  {
   "cell_type": "markdown",
   "metadata": {},
   "source": [
    "Merging two DataFrames and specifying which one is on the\n",
    "left and which one is on the right."
   ]
  },
  {
   "cell_type": "code",
   "execution_count": 61,
   "metadata": {},
   "outputs": [
    {
     "name": "stdout",
     "output_type": "stream",
     "text": [
      "  employee        group\n",
      "0      Bob   Accounting\n",
      "1     Jake  Engineering\n",
      "2     Lisa  Engineering\n",
      "3      Sue           HR\n",
      "   name  salary\n",
      "0   Bob   70000\n",
      "1  Jake   80000\n",
      "2  Lisa  120000\n",
      "3   Sue   90000\n",
      "  employee        group  name  salary\n",
      "0      Bob   Accounting   Bob   70000\n",
      "1     Jake  Engineering  Jake   80000\n",
      "2     Lisa  Engineering  Lisa  120000\n",
      "3      Sue           HR   Sue   90000\n"
     ]
    }
   ],
   "source": [
    "df1 = pd.DataFrame({'employee': ['Bob', 'Jake', 'Lisa', 'Sue'],\n",
    "                    'group': ['Accounting', 'Engineering', 'Engineering', 'HR']})\n",
    "df2 = pd.DataFrame({'employee': ['Lisa', 'Bob', 'Jake', 'Sue'],\n",
    "                    'hire_date': [2004, 2008, 2012, 2014]})\n",
    "df3 = pd.DataFrame({'name': ['Bob', 'Jake', 'Lisa', 'Sue'],\n",
    "                    'salary': [70000, 80000, 120000, 90000]})\n",
    "\n",
    "print(df1)\n",
    "print(df3)\n",
    "print(pd.merge(df1,df3,left_on = \"employee\", right_on = \"name\"))"
   ]
  },
  {
   "cell_type": "markdown",
   "metadata": {},
   "source": [
    "Set logic on the other axes during merging\n",
    "- In pandas axis = 1 parameter specifies that the operation should be performed\n",
    "on the columns of the DataFrame\n",
    "- In pandas axis = 0 parameter specifies that the operation should be performed\n",
    "on the rows of the DataFrame"
   ]
  },
  {
   "cell_type": "code",
   "execution_count": 62,
   "metadata": {},
   "outputs": [
    {
     "name": "stdout",
     "output_type": "stream",
     "text": [
      "  employee        group\n",
      "0      Bob   Accounting\n",
      "1     Jake  Engineering\n",
      "2     Lisa  Engineering\n",
      "3      Sue           HR\n",
      "  employee  hire_date\n",
      "0     Lisa       2004\n",
      "1      Bob       2008\n",
      "2     Jake       2012\n",
      "3      Sue       2014\n",
      "  employee        group  salary\n",
      "0      Bob   Accounting   70000\n",
      "1     Jake  Engineering   80000\n",
      "2     Lisa  Engineering  120000\n",
      "3      Sue           HR   90000\n"
     ]
    }
   ],
   "source": [
    "df1 = pd.DataFrame({'employee': ['Bob', 'Jake', 'Lisa', 'Sue'],\n",
    "                    'group': ['Accounting', 'Engineering', 'Engineering', 'HR']})\n",
    "df2 = pd.DataFrame({'employee': ['Lisa', 'Bob', 'Jake', 'Sue'],\n",
    "                    'hire_date': [2004, 2008, 2012, 2014]})\n",
    "df3 = pd.DataFrame({'name': ['Bob', 'Jake', 'Lisa', 'Sue'],\n",
    "                    'salary': [70000, 80000, 120000, 90000]})\n",
    "\n",
    "print(df1)\n",
    "print(df2)\n",
    "print(pd.merge(df1,df3,left_on=\"employee\",\n",
    "               right_on=\"name\").drop('name',axis=1))"
   ]
  },
  {
   "cell_type": "markdown",
   "metadata": {},
   "source": [
    "When merging, only the intersecting elements in the common\n",
    "column will appear in the resulting DataFrame."
   ]
  },
  {
   "cell_type": "code",
   "execution_count": 63,
   "metadata": {},
   "outputs": [
    {
     "name": "stdout",
     "output_type": "stream",
     "text": [
      "    name   food\n",
      "0  Peter   fish\n",
      "1   Paul  beans\n",
      "2   Mary  bread\n",
      "----------------------------------------\n",
      "     name drink\n",
      "0    Mary  cola\n",
      "1  Joseph  7 up\n",
      "----------------------------------------\n",
      "   name   food drink\n",
      "0  Mary  bread  cola\n"
     ]
    }
   ],
   "source": [
    "df1 = pd.DataFrame({'name': ['Peter', 'Paul', 'Mary'],\n",
    "                    'food': ['fish', 'beans', 'bread']},\n",
    "                   columns=['name', 'food'])\n",
    "df2 = pd.DataFrame({'name': ['Mary', 'Joseph'],\n",
    "                    'drink': ['cola', '7 up']}, \n",
    "                   columns=['name','drink'])\n",
    "print(df1)\n",
    "print('----------------------------------------')\n",
    "print(df2)\n",
    "print('----------------------------------------')\n",
    "df3 = pd.merge(df1,df2)\n",
    "print(df3)"
   ]
  },
  {
   "cell_type": "markdown",
   "metadata": {},
   "source": [
    "- The same intersection between DataFrames can be achieved by using\n",
    "the \"inner\" parameter.\n",
    "- It's worth noting that \"inner\" is the default value for the parameter in\n",
    "the Pandas merge method."
   ]
  },
  {
   "cell_type": "code",
   "execution_count": 64,
   "metadata": {},
   "outputs": [
    {
     "name": "stdout",
     "output_type": "stream",
     "text": [
      "    name   food\n",
      "0  Peter   fish\n",
      "1   Paul  beans\n",
      "2   Mary  bread\n",
      "----------------------------------------\n",
      "     name drink\n",
      "0    Mary  cola\n",
      "1  Joseph  7 up\n",
      "----------------------------------------\n",
      "   name   food drink\n",
      "0  Mary  bread  cola\n"
     ]
    }
   ],
   "source": [
    "df1 = pd.DataFrame({'name': ['Peter', 'Paul', 'Mary'],\n",
    "                    'food': ['fish', 'beans', 'bread']}, \n",
    "                   columns=['name', 'food'])\n",
    "df2 = pd.DataFrame({'name': ['Mary', 'Joseph'],\n",
    "                    'drink': ['cola', '7 up']},\n",
    "                   columns=['name', 'drink'])\n",
    "\n",
    "print(df1)\n",
    "print('----------------------------------------')\n",
    "print(df2)\n",
    "print('----------------------------------------')\n",
    "df3 = pd.merge(df1,df2,how = 'inner')\n",
    "print(df3)"
   ]
  },
  {
   "cell_type": "markdown",
   "metadata": {},
   "source": [
    "Example for the outer case\n",
    "- Merging to obtain all elements, with NaN filling in the missing values,\n",
    "using the \"outer\" parameter."
   ]
  },
  {
   "cell_type": "code",
   "execution_count": 65,
   "metadata": {},
   "outputs": [
    {
     "name": "stdout",
     "output_type": "stream",
     "text": [
      "    name   food\n",
      "0  Peter   fish\n",
      "1   Paul  beans\n",
      "2   Mary  bread\n",
      "----------------------------------------\n",
      "     name drink\n",
      "0    Mary  cola\n",
      "1  Joseph  7 up\n",
      "----------------------------------------\n",
      "     name   food drink\n",
      "0  Joseph    NaN  7 up\n",
      "1    Mary  bread  cola\n",
      "2    Paul  beans   NaN\n",
      "3   Peter   fish   NaN\n"
     ]
    }
   ],
   "source": [
    "df1 = pd.DataFrame({'name': ['Peter', 'Paul', 'Mary'],\n",
    "                    'food': ['fish', 'beans', 'bread']}, \n",
    "                   columns=['name', 'food'])\n",
    "df2 = pd.DataFrame({'name': ['Mary', 'Joseph'],\n",
    "                    'drink': ['cola', '7 up']},\n",
    "                   columns=['name', 'drink'])\n",
    "\n",
    "print(df1)\n",
    "print('----------------------------------------')\n",
    "print(df2)\n",
    "print('----------------------------------------')\n",
    "df3 = pd.merge(df1,df2, how = 'outer')\n",
    "print(df3)"
   ]
  },
  {
   "cell_type": "code",
   "execution_count": 66,
   "metadata": {},
   "outputs": [
    {
     "name": "stdout",
     "output_type": "stream",
     "text": [
      "    name   food\n",
      "0  Peter   fish\n",
      "1   Paul  beans\n",
      "2   Mary  bread\n",
      "----------------------------------------\n",
      "     name drink\n",
      "0    Mary  cola\n",
      "1  Joseph  7 up\n",
      "----------------------------------------\n",
      "     name   food drink\n",
      "0    Mary  bread  cola\n",
      "1  Joseph    NaN  7 up\n"
     ]
    }
   ],
   "source": [
    "df1 = pd.DataFrame({'name': ['Peter', 'Paul', 'Mary'],\n",
    "                    'food': ['fish', 'beans', 'bread']},\n",
    "                   columns=['name', 'food'])\n",
    "df2 = pd.DataFrame({'name': ['Mary', 'Joseph'],\n",
    "                    'drink': ['cola', '7 up']},\n",
    "                   columns=['name','drink'])\n",
    "\n",
    "print(df1)\n",
    "print('----------------------------------------')\n",
    "print(df2)\n",
    "print('----------------------------------------')\n",
    "df3 = pd.merge(df1,df2,how = 'right')\n",
    "print(df3)"
   ]
  },
  {
   "cell_type": "markdown",
   "metadata": {},
   "source": [
    "Example for the left case\n",
    "- Merging to obtain all elements from one DataFrame and filling in\n",
    "missing values in the other DataFrame with NaN, using the \"left\"\n",
    "parameter."
   ]
  },
  {
   "cell_type": "code",
   "execution_count": 67,
   "metadata": {},
   "outputs": [
    {
     "name": "stdout",
     "output_type": "stream",
     "text": [
      "    name   food\n",
      "0  Peter   fish\n",
      "1   Paul  beans\n",
      "2   Mary  bread\n",
      "----------------------------------------\n",
      "     name drink\n",
      "0    Mary  cola\n",
      "1  Joseph  7 up\n",
      "----------------------------------------\n",
      "    name   food drink\n",
      "0  Peter   fish   NaN\n",
      "1   Paul  beans   NaN\n",
      "2   Mary  bread  cola\n"
     ]
    }
   ],
   "source": [
    "df1 = pd.DataFrame({'name': ['Peter', 'Paul', 'Mary'],\n",
    "                    'food': ['fish', 'beans', 'bread']}, \n",
    "                   columns=['name', 'food'])\n",
    "df2 = pd.DataFrame({'name': ['Mary', 'Joseph'],\n",
    "                    'drink': ['cola', '7 up']},\n",
    "                   columns=['name', 'drink'])\n",
    "print(df1)\n",
    "print('----------------------------------------')\n",
    "print(df2)\n",
    "print('----------------------------------------')\n",
    "df3 = pd.merge(df1,df2,how = 'left')\n",
    "print(df3)"
   ]
  },
  {
   "cell_type": "markdown",
   "metadata": {},
   "source": [
    "**Advanced operations on DataFrames**\n",
    "\n",
    "Statistics for the entire DF"
   ]
  },
  {
   "cell_type": "code",
   "execution_count": 68,
   "metadata": {},
   "outputs": [
    {
     "name": "stdout",
     "output_type": "stream",
     "text": [
      "          A         B\n",
      "0  0.683771  0.190107\n",
      "1  0.364246  0.638796\n",
      "2  0.948589  0.477385\n",
      "3  0.209665  0.649271\n",
      "4  0.442622  0.017429\n",
      "5  0.338141  0.451223\n",
      "6  0.203646  0.569257\n",
      "7  0.594752  0.052232\n",
      "8  0.145594  0.177773\n",
      "9  0.660613  0.538448\n",
      "----------------------------------------\n",
      "A    4.591641\n",
      "B    3.761922\n",
      "dtype: float64\n",
      "----------------------------------------\n",
      "A    8.636656e-05\n",
      "B    8.425063e-07\n",
      "dtype: float64\n",
      "----------------------------------------\n",
      "A    0.459164\n",
      "B    0.376192\n",
      "dtype: float64\n"
     ]
    }
   ],
   "source": [
    "df =pd.DataFrame({'A':np.random.rand(10),'B' : np.random.rand(10)})\n",
    "\n",
    "print(df)\n",
    "print('----------------------------------------')\n",
    "print(df.sum())\n",
    "print('----------------------------------------')\n",
    "print(df.prod())\n",
    "print('----------------------------------------')\n",
    "print(df.mean())"
   ]
  },
  {
   "cell_type": "markdown",
   "metadata": {},
   "source": [
    "Statistics on one Column of the DF"
   ]
  },
  {
   "cell_type": "code",
   "execution_count": 69,
   "metadata": {},
   "outputs": [
    {
     "name": "stdout",
     "output_type": "stream",
     "text": [
      "          A         B\n",
      "0  0.960524  0.044958\n",
      "1  0.283626  0.931050\n",
      "2  0.097713  0.980227\n",
      "3  0.495235  0.681487\n",
      "4  0.430441  0.078296\n",
      "5  0.665070  0.492094\n",
      "6  0.049889  0.685101\n",
      "7  0.020273  0.502362\n",
      "8  0.947315  0.105118\n",
      "9  0.071003  0.605245\n",
      "----------------------------------------\n",
      "4.021090602582316\n",
      "----------------------------------------\n",
      "2.359020656724695e-05\n",
      "----------------------------------------\n",
      "0.40210906025823157\n"
     ]
    }
   ],
   "source": [
    "df =pd.DataFrame({'A':np.random.rand(10),'B' : np.random.rand(10)})\n",
    "\n",
    "print(df)\n",
    "print('----------------------------------------')\n",
    "print(df['A'].sum())\n",
    "print('----------------------------------------')\n",
    "print(df['B'].prod())\n",
    "print('----------------------------------------')\n",
    "print(df['A'].mean())"
   ]
  },
  {
   "cell_type": "markdown",
   "metadata": {},
   "source": [
    "Statistics on all columns of the DF\n",
    "- This is the default behavior, and you can specify to compute by rows.\n",
    "For example, computing the average for all rows will return the average\n",
    "of the elements across the entire column."
   ]
  },
  {
   "cell_type": "code",
   "execution_count": 70,
   "metadata": {},
   "outputs": [
    {
     "name": "stdout",
     "output_type": "stream",
     "text": [
      "          A         B\n",
      "0  0.608435  0.777411\n",
      "1  0.297156  0.111865\n",
      "2  0.075451  0.788092\n",
      "3  0.007417  0.332960\n",
      "4  0.777926  0.093245\n",
      "5  0.395070  0.745446\n",
      "6  0.941345  0.658773\n",
      "7  0.867855  0.806813\n",
      "8  0.597157  0.437327\n",
      "9  0.905862  0.825856\n",
      "----------------------------------------\n",
      "A    0.547367\n",
      "B    0.557779\n",
      "dtype: float64\n",
      "----------------------------------------\n",
      "A    10\n",
      "B    10\n",
      "dtype: int64\n",
      "----------------------------------------\n",
      "A    0.007417\n",
      "B    0.093245\n",
      "dtype: float64\n",
      "----------------------------------------\n",
      "A    0.941345\n",
      "B    0.825856\n",
      "dtype: float64\n",
      "----------------------------------------\n",
      "A    0.340892\n",
      "B    0.290644\n",
      "dtype: float64\n",
      "----------------------------------------\n"
     ]
    }
   ],
   "source": [
    "df =pd.DataFrame({'A':np.random.rand(10),'B' : np.random.rand(10)})\n",
    "\n",
    "print(df)\n",
    "print('----------------------------------------')\n",
    "print(df.mean(axis = 'rows'))\n",
    "print('----------------------------------------')\n",
    "print(df.count())\n",
    "print('----------------------------------------')\n",
    "print(df.min())\n",
    "print('----------------------------------------')\n",
    "print(df.max())\n",
    "print('----------------------------------------')\n",
    "print(df.std())\n",
    "print('----------------------------------------')"
   ]
  },
  {
   "cell_type": "markdown",
   "metadata": {},
   "source": [
    "Statistics on all rows of the DF\n",
    "- In this case, you need to pass the parameter axis=\"column\".\n",
    "This allows the process to be applied to all elements by column and\n",
    "return results for each row."
   ]
  },
  {
   "cell_type": "code",
   "execution_count": 71,
   "metadata": {},
   "outputs": [
    {
     "name": "stdout",
     "output_type": "stream",
     "text": [
      "          A         B\n",
      "0  0.688844  0.702806\n",
      "1  0.434655  0.836389\n",
      "2  0.670346  0.386152\n",
      "3  0.469488  0.000828\n",
      "4  0.681627  0.382078\n",
      "5  0.815503  0.038269\n",
      "6  0.509918  0.880004\n",
      "7  0.212595  0.796718\n",
      "8  0.646152  0.394433\n",
      "9  0.419199  0.045397\n",
      "-----------------------------------------\n",
      "0    0.695825\n",
      "1    0.635522\n",
      "2    0.528249\n",
      "3    0.235158\n",
      "4    0.531853\n",
      "5    0.426886\n",
      "6    0.694961\n",
      "7    0.504656\n",
      "8    0.520292\n",
      "9    0.232298\n",
      "dtype: float64\n"
     ]
    }
   ],
   "source": [
    "df = pd.DataFrame({'A': np.random.rand(10),'B': np.random.rand(10)}) \n",
    "\n",
    "print(df)\n",
    "print('-----------------------------------------')\n",
    "print(df.mean(axis='columns'))"
   ]
  },
  {
   "cell_type": "markdown",
   "metadata": {},
   "source": [
    "Statistics on the entire DF using the Describe method"
   ]
  },
  {
   "cell_type": "code",
   "execution_count": 72,
   "metadata": {},
   "outputs": [
    {
     "name": "stdout",
     "output_type": "stream",
     "text": [
      "  key  data\n",
      "0   A     0\n",
      "1   B     1\n",
      "2   C     2\n",
      "3   A     3\n",
      "4   B     4\n",
      "5   C     5\n",
      "           data\n",
      "count  6.000000\n",
      "mean   2.500000\n",
      "std    1.870829\n",
      "min    0.000000\n",
      "25%    1.250000\n",
      "50%    2.500000\n",
      "75%    3.750000\n",
      "max    5.000000\n"
     ]
    }
   ],
   "source": [
    "df = pd.DataFrame({'key':['A','B','C','A','B','C'],\n",
    "                   'data': range(6)},\n",
    "                  columns = ['key','data'])\n",
    "print(df)\n",
    "print(df.describe())"
   ]
  },
  {
   "cell_type": "markdown",
   "metadata": {},
   "source": [
    "Groupby\n",
    "- Groupby is a crucial method in Pandas that facilitates grouping similar\n",
    "elements and applying various operations on each group."
   ]
  },
  {
   "cell_type": "code",
   "execution_count": 73,
   "metadata": {},
   "outputs": [
    {
     "name": "stdout",
     "output_type": "stream",
     "text": [
      "  key  data\n",
      "0   A     0\n",
      "1   B     1\n",
      "2   C     2\n",
      "3   A     3\n",
      "4   B     4\n",
      "5   C     5\n",
      "     data\n",
      "key      \n",
      "A       3\n",
      "B       5\n",
      "C       7\n"
     ]
    }
   ],
   "source": [
    "df = pd.DataFrame({'key':['A','B','C','A','B','C'],\n",
    "                   'data': range(6)},\n",
    "                  columns=['key', 'data'])\n",
    "\n",
    "print(df)\n",
    "print(df.groupby('key').sum())"
   ]
  },
  {
   "cell_type": "markdown",
   "metadata": {},
   "source": [
    "Grouping with the Describe Method"
   ]
  },
  {
   "cell_type": "code",
   "execution_count": 74,
   "metadata": {},
   "outputs": [
    {
     "name": "stdout",
     "output_type": "stream",
     "text": [
      "     data                                         \n",
      "    count mean      std  min   25%  50%   75%  max\n",
      "key                                               \n",
      "A     2.0  1.5  2.12132  0.0  0.75  1.5  2.25  3.0\n",
      "B     2.0  2.5  2.12132  1.0  1.75  2.5  3.25  4.0\n",
      "C     2.0  3.5  2.12132  2.0  2.75  3.5  4.25  5.0\n"
     ]
    }
   ],
   "source": [
    "df = pd.DataFrame({'key':['A','B','C','A','B','C'],\n",
    "                   'data': range(6)},\n",
    "                  columns=['key', 'data'])\n",
    "print(df.groupby('key').describe())"
   ]
  },
  {
   "cell_type": "markdown",
   "metadata": {},
   "source": [
    "Unstack the returned data from the describe method."
   ]
  },
  {
   "cell_type": "code",
   "execution_count": 75,
   "metadata": {},
   "outputs": [
    {
     "name": "stdout",
     "output_type": "stream",
     "text": [
      "  key  data\n",
      "0   A     0\n",
      "1   B     1\n",
      "2   C     2\n",
      "3   A     3\n",
      "4   B     4\n",
      "5   C     5\n",
      "             key\n",
      "data  count  A      2.00000\n",
      "             B      2.00000\n",
      "             C      2.00000\n",
      "      mean   A      1.50000\n",
      "             B      2.50000\n",
      "             C      3.50000\n",
      "      std    A      2.12132\n",
      "             B      2.12132\n",
      "             C      2.12132\n",
      "      min    A      0.00000\n",
      "             B      1.00000\n",
      "             C      2.00000\n",
      "      25%    A      0.75000\n",
      "             B      1.75000\n",
      "             C      2.75000\n",
      "      50%    A      1.50000\n",
      "             B      2.50000\n",
      "             C      3.50000\n",
      "      75%    A      2.25000\n",
      "             B      3.25000\n",
      "             C      4.25000\n",
      "      max    A      3.00000\n",
      "             B      4.00000\n",
      "             C      5.00000\n",
      "dtype: float64\n"
     ]
    }
   ],
   "source": [
    "df = pd.DataFrame({'key':['A','B','C','A','B','C'],\n",
    "                   'data': range(6)},columns=['key', 'data'])\n",
    "print(df)\n",
    "print(df.groupby('key').describe().unstack())"
   ]
  },
  {
   "cell_type": "code",
   "execution_count": 76,
   "metadata": {},
   "outputs": [
    {
     "name": "stdout",
     "output_type": "stream",
     "text": [
      "  key  data1  data2\n",
      "0   A      0      7\n",
      "1   B      1      5\n",
      "2   C      2      3\n",
      "3   A      3      5\n",
      "4   B      4      1\n",
      "5   C      5      4\n",
      "------------------\n",
      "     data1  data2\n",
      "key              \n",
      "A        0      7\n",
      "B        1      5\n",
      "C        2      4\n"
     ]
    }
   ],
   "source": [
    "df = pd.DataFrame({'key':['A','B','C','A','B','C'],\n",
    "                   'data1' : range(6),\n",
    "                   'data2' : np.random.randint(0,10,6)},\n",
    "                  columns = ['key','data1','data2'])\n",
    "print(df)\n",
    "print('------------------')\n",
    "df2 = df.groupby('key').aggregate({'data1':'min','data2':'max'})\n",
    "print(df2)"
   ]
  },
  {
   "cell_type": "markdown",
   "metadata": {},
   "source": [
    "filter the returned data based on function."
   ]
  },
  {
   "cell_type": "code",
   "execution_count": 77,
   "metadata": {},
   "outputs": [
    {
     "name": "stdout",
     "output_type": "stream",
     "text": [
      "  key  data1  data2\n",
      "0   A      0      1\n",
      "1   B      1      2\n",
      "2   C      2      1\n",
      "3   A      3      7\n",
      "4   B      4      0\n",
      "5   C      5      8\n",
      "  key  data1  data2\n",
      "0   A      0      1\n",
      "2   C      2      1\n",
      "3   A      3      7\n",
      "5   C      5      8\n"
     ]
    }
   ],
   "source": [
    "df = pd.DataFrame({'key': ['A', 'B', 'C', 'A', 'B', 'C'],\n",
    "                   'data1': range(6),\n",
    "                   'data2': np.random.randint(0, 10, 6)},\n",
    "                  columns = ['key', 'data1', 'data2'])\n",
    "print(df)\n",
    "def filter_func(x):\n",
    "    return x['data2'].std()>4\n",
    "\n",
    "df2 = df.groupby('key').filter(filter_func)\n",
    "print(df2)"
   ]
  },
  {
   "cell_type": "markdown",
   "metadata": {},
   "source": [
    "**Data Transformation and Handling Missing Data**"
   ]
  },
  {
   "cell_type": "markdown",
   "metadata": {},
   "source": [
    "Dropping Unnecessary Data\n",
    "- Dropping helps in focusing on what's essential by removing unneeded data."
   ]
  },
  {
   "cell_type": "code",
   "execution_count": 78,
   "metadata": {},
   "outputs": [
    {
     "name": "stdout",
     "output_type": "stream",
     "text": [
      "Original DataFrame:\n",
      "      Name  Age Unnedded_Column\n",
      "0    Alice   25               A\n",
      "1      Bob   30               B\n",
      "2  Charlie   22               C\n",
      "\n",
      "DataFrame after streamlining data:\n",
      "      Name  Age\n",
      "0    Alice   25\n",
      "1      Bob   30\n",
      "2  Charlie   22\n"
     ]
    }
   ],
   "source": [
    "data = {'Name':['Alice','Bob','Charlie'],\n",
    "                'Age':[25,30,22],\n",
    "        'Unnedded_Column':['A','B','C']}\n",
    "df = pd.DataFrame(data)\n",
    "\n",
    "# Displaying the original DataFrame\n",
    "print(\"Original DataFrame:\")\n",
    "print(df)\n",
    "\n",
    "# Dropping the unneeded column\n",
    "df = df.drop(columns = ['Unnedded_Column'])\n",
    "\n",
    "# Displaying the DataFrame after dropping the column\n",
    "print(\"\\nDataFrame after streamlining data:\")\n",
    "print(df)"
   ]
  },
  {
   "cell_type": "markdown",
   "metadata": {},
   "source": [
    "Dropping Rows with Any Missing Values"
   ]
  },
  {
   "cell_type": "code",
   "execution_count": 79,
   "metadata": {},
   "outputs": [
    {
     "name": "stdout",
     "output_type": "stream",
     "text": [
      "Original DataFrame:\n",
      "      Name   Age   Salary\n",
      "0    Alice  25.0  50000.0\n",
      "1      Bob  30.0      NaN\n",
      "2     None   NaN  60000.0\n",
      "3  Charlie  22.0  70000.0\n",
      "\n",
      "DataFrame with all rows without missing value\n",
      "      Name   Age   Salary\n",
      "0    Alice  25.0  50000.0\n",
      "3  Charlie  22.0  70000.0\n"
     ]
    }
   ],
   "source": [
    "data = {'Name':['Alice','Bob',None,'Charlie'],\n",
    "        'Age' : [25, 30, None, 22],\n",
    "        'Salary':[50000, None, 60000, 70000]}\n",
    "\n",
    "df = pd.DataFrame(data)\n",
    "\n",
    "# Display the original DataFrame\n",
    "print(\"Original DataFrame:\")\n",
    "print(df)\n",
    "\n",
    "# Drop the entire row if there is any one missing data\n",
    "df_clean = df.dropna()\n",
    "print(\"\\nDataFrame with all rows without missing value\")\n",
    "print(df_clean)"
   ]
  },
  {
   "cell_type": "markdown",
   "metadata": {},
   "source": [
    "Using drop function; Dropping an entire row\n",
    "containing missing values can be achieved by specifying a single label,\n",
    "index, or column"
   ]
  },
  {
   "cell_type": "code",
   "execution_count": 80,
   "metadata": {},
   "outputs": [
    {
     "name": "stdout",
     "output_type": "stream",
     "text": [
      "Original DataFrame\n",
      "      Name   Age   Salary\n",
      "0    Alice  25.0  50000.0\n",
      "1      Bob  30.0      NaN\n",
      "2     None   NaN  60000.0\n",
      "3  Charlie  22.0  70000.0\n",
      "\n",
      "DataFrame with all rows without missing value\n",
      "      Name   Age   Salary\n",
      "0    Alice  25.0  50000.0\n",
      "1      Bob  30.0      NaN\n",
      "3  Charlie  22.0  70000.0\n"
     ]
    }
   ],
   "source": [
    "data = {'Name': ['Alice', 'Bob', None, 'Charlie'],\n",
    "        'Age': [25, 30, None, 22],\n",
    "        'Salary': [50000, None, 60000, 70000]}\n",
    "df = pd.DataFrame(data)\n",
    "\n",
    "# Displaying the original DataFrame\n",
    "print(\"Original DataFrame\")\n",
    "print(df)\n",
    "\n",
    "# Drop the entire row if there is any one missing data\n",
    "df_clean = df.drop(2, axis = 0)\n",
    "print(\"\\nDataFrame with all rows without missing value\")\n",
    "print(df_clean)"
   ]
  },
  {
   "cell_type": "markdown",
   "metadata": {},
   "source": [
    "Detecting All Missing Values\n",
    "- Detecting missing values is crucial for maintaining data integrity, and it can be\n",
    "achieved using the isnull() function.\n",
    "- Additionally, there is another function named notnull(), which, when used in\n",
    "reverse, indicates false wherever there is a missing value."
   ]
  },
  {
   "cell_type": "code",
   "execution_count": 81,
   "metadata": {},
   "outputs": [
    {
     "name": "stdout",
     "output_type": "stream",
     "text": [
      "Original DataFrame\n",
      "      Name   Age   Salary\n",
      "0    Alice  25.0  50000.0\n",
      "1      Bob  30.0      NaN\n",
      "2     None   NaN  60000.0\n",
      "3  Charlie  22.0  70000.0\n",
      "\n",
      "DataFrame with Missing Value Indicators:\n",
      "    Name    Age  Salary\n",
      "0  False  False   False\n",
      "1  False  False    True\n",
      "2   True   True   False\n",
      "3  False  False   False\n",
      "\n",
      "DataFrame with all rows contain Missing Value\n",
      "  Name   Age  Salary\n",
      "1  Bob  30.0     NaN\n"
     ]
    }
   ],
   "source": [
    "data = {'Name': ['Alice', 'Bob', None, 'Charlie'],\n",
    "        'Age': [25, 30, None, 22],\n",
    "        'Salary': [50000, None, 60000, 70000]}\n",
    "df = pd.DataFrame(data)\n",
    "\n",
    "# Displaying original DataFrame\n",
    "print(\"Original DataFrame\")\n",
    "print(df)\n",
    "\n",
    "# Checking for missing values\n",
    "missing_value = df.isnull() #isnull to find missing value in True (Missing) or False\n",
    "\n",
    "# Displaying the DataFrame with missing value indicators\n",
    "print(\"\\nDataFrame with Missing Value Indicators:\")\n",
    "print(missing_value)\n",
    "\n",
    "# Show rows where any one of them have missing value in the Salary columns\n",
    "rows_with_missing = df[df[\"Salary\"].isnull()]\n",
    "print(\"\\nDataFrame with all rows contain Missing Value\")\n",
    "print(rows_with_missing)"
   ]
  },
  {
   "cell_type": "markdown",
   "metadata": {},
   "source": [
    "Eliminating Duplicates\n",
    "- Duplicate data can distort your analysis. The drop_duplicates() function is\n",
    "instrumental in preserving data integrity."
   ]
  },
  {
   "cell_type": "code",
   "execution_count": 82,
   "metadata": {},
   "outputs": [
    {
     "name": "stdout",
     "output_type": "stream",
     "text": [
      "Original DataFrame\n",
      "      Name  Age  Salary\n",
      "0    Alice   25   50000\n",
      "1      Bob   30   60000\n",
      "2    Alice   25   50000\n",
      "3  Charlie   22   70000\n",
      "4      Bob   30   60000\n",
      "\n",
      "DataFrame after dropping duplicates:\n",
      "      Name  Age  Salary\n",
      "0    Alice   25   50000\n",
      "1      Bob   30   60000\n",
      "3  Charlie   22   70000\n"
     ]
    }
   ],
   "source": [
    "data = {'Name': ['Alice', 'Bob', 'Alice', 'Charlie', 'Bob'],\n",
    "        'Age' : [25, 30, 25, 22, 30],\n",
    "        'Salary': [50000, 60000, 50000, 70000, 60000]}\n",
    "df = pd.DataFrame(data)\n",
    "\n",
    "# Displaying the original DataFrame\n",
    "print(\"Original DataFrame\")\n",
    "print(df)\n",
    "\n",
    "# Displaying duplicates based on all columns\n",
    "df_no_duplicate = df.drop_duplicates()\n",
    "\n",
    "# Displaying the DataFrame after dropping duplicate\n",
    "print(\"\\nDataFrame after dropping duplicates:\")\n",
    "print(df_no_duplicate)"
   ]
  },
  {
   "cell_type": "markdown",
   "metadata": {},
   "source": [
    "Another example to eliminating duplicates"
   ]
  },
  {
   "cell_type": "code",
   "execution_count": 83,
   "metadata": {},
   "outputs": [
    {
     "name": "stdout",
     "output_type": "stream",
     "text": [
      "Original DataFrame:\n",
      "    k1  k2\n",
      "0  one   1\n",
      "1  one   1\n",
      "2  one   2\n",
      "3  two   3\n",
      "4  two   3\n",
      "5  two   4\n",
      "6  two   4\n",
      "\n",
      "The Duplicate entries:\n",
      "0    False\n",
      "1     True\n",
      "2    False\n",
      "3    False\n",
      "4     True\n",
      "5    False\n",
      "6     True\n",
      "dtype: bool\n",
      "\n",
      "DataFrame after dropping duplicates:\n",
      "    k1  k2\n",
      "0  one   1\n",
      "2  one   2\n",
      "3  two   3\n",
      "5  two   4\n"
     ]
    }
   ],
   "source": [
    "df = pd.DataFrame({'k1':['one']*3+['two']*4,\n",
    "                   'k2':[1,1,2,3,3,4,4]})\n",
    "# Displaying the original DataFrame\n",
    "print(\"Original DataFrame:\")\n",
    "print(df)\n",
    "\n",
    "# See the duplicate entries\n",
    "duplicates = df.duplicated()\n",
    "\n",
    "# Displaying the duplicates to look them\n",
    "print(\"\\nThe Duplicate entries:\")\n",
    "print(duplicates)\n",
    "\n",
    "# Dropping duplicates based on all columns\n",
    "df_no_duplicates = df.drop_duplicates()\n",
    "\n",
    "# Displaying the DataFrame after dropping duplicates\n",
    "print(\"\\nDataFrame after dropping duplicates:\")\n",
    "print(df_no_duplicates)"
   ]
  },
  {
   "cell_type": "markdown",
   "metadata": {},
   "source": [
    "Control Eliminating Duplicates"
   ]
  },
  {
   "cell_type": "code",
   "execution_count": 84,
   "metadata": {},
   "outputs": [
    {
     "name": "stdout",
     "output_type": "stream",
     "text": [
      "Original DataFrame:\n",
      "    k1  k2\n",
      "0  one   1\n",
      "1  one   1\n",
      "2  one   2\n",
      "3  two   3\n",
      "4  two   3\n",
      "5  two   4\n",
      "6  two   4\n",
      "Keep the last entry:\n",
      "    k1  k2\n",
      "1  one   1\n",
      "2  one   2\n",
      "4  two   3\n",
      "6  two   4\n"
     ]
    }
   ],
   "source": [
    "df = pd.DataFrame({'k1':['one']*3+['two']*4,\n",
    "                   'k2':[1,1,2,3,3,4,4]})\n",
    "# Displaying the original DataFrame\n",
    "print(\"Original DataFrame:\")\n",
    "print(df)\n",
    "\n",
    "# Keep the last\n",
    "keep_the_last = df.drop_duplicates(keep=\"last\")\n",
    "print(\"Keep the last entry:\")\n",
    "print(keep_the_last)"
   ]
  },
  {
   "cell_type": "markdown",
   "metadata": {},
   "source": [
    "eliminate all duplicate values based on specific columns"
   ]
  },
  {
   "cell_type": "code",
   "execution_count": 85,
   "metadata": {},
   "outputs": [
    {
     "name": "stdout",
     "output_type": "stream",
     "text": [
      "Original DataFrame:\n",
      "    k1  k2\n",
      "0  one   1\n",
      "1  one   1\n",
      "2  one   2\n",
      "3  two   3\n",
      "4  two   3\n",
      "5  two   4\n",
      "6  two   4\n",
      "\n",
      "The DF without duplicate (k1 based):\n",
      "    k1  k2\n",
      "0  one   1\n",
      "3  two   3\n",
      "\n",
      " The DF without duplicate(k1_k2 based):\n",
      "    k1  k2\n",
      "0  one   1\n",
      "2  one   2\n",
      "3  two   3\n",
      "5  two   4\n"
     ]
    }
   ],
   "source": [
    "# create DataFrame with duplicate entries\n",
    "df = pd.DataFrame({'k1':['one']*3 + ['two']*4,\n",
    "                    'k2':[1,1,2,3,3,4,4]})\n",
    "# Displaying the original DataFarme\n",
    "print(\"Original DataFrame:\")\n",
    "print(df)\n",
    "\n",
    "# Drop duplicate entries based on k1 only\n",
    "df_k1 = df.drop_duplicates(['k1'])\n",
    "# Displaying the df after drop the duplicates based on k1\n",
    "print(\"\\nThe DF without duplicate (k1 based):\")\n",
    "print(df_k1)\n",
    "\n",
    "# Drop if k1 and k2 column matched\n",
    "df_k1_k2 = df.drop_duplicates(['k1','k2'])\n",
    "# Displaying the df after drop the duplicates based on k1 and k2\n",
    "print(\"\\n The DF without duplicate(k1_k2 based):\")\n",
    "print(df_k1_k2)"
   ]
  },
  {
   "cell_type": "markdown",
   "metadata": {},
   "source": [
    "Transforming Data Using the replace() Function\n",
    "- The replace() function can customize your dataset by substituting values. It is\n",
    "commonly used for data cleaning, allowing correction of mislabeled data or handling\n",
    "outliers."
   ]
  },
  {
   "cell_type": "code",
   "execution_count": 86,
   "metadata": {},
   "outputs": [
    {
     "name": "stdout",
     "output_type": "stream",
     "text": [
      "Original DataFrame:\n",
      "    Category  Price\n",
      "0      Fruit    2.5\n",
      "1  Vegetable    1.8\n",
      "2      Fruit    3.0\n",
      "3       Meat    5.5\n",
      "4  Vegetable    2.0\n",
      "5      Fruit    3.2\n",
      "6       Meat    6.0\n",
      "\n",
      "DataFrame after replacement:\n",
      "        Category  Price\n",
      "0  Healthy Snack    2.5\n",
      "1      Vegetable    1.8\n",
      "2  Healthy Snack    3.0\n",
      "3           Meat    5.5\n",
      "4      Vegetable    2.0\n",
      "5  Healthy Snack    3.2\n",
      "6           Meat    6.0\n"
     ]
    }
   ],
   "source": [
    "# Sample DataFrame with a column containing specific values to be replace\n",
    "data = {'Category' : ['Fruit','Vegetable','Fruit','Meat','Vegetable','Fruit', 'Meat'],\n",
    "        'Price' : [2.5, 1.8, 3.0, 5.5, 2.0, 3.2, 6.0]}\n",
    "df = pd.DataFrame(data)\n",
    "\n",
    "# Displaying the original DataFrame\n",
    "print(\"Original DataFrame:\")\n",
    "print(df)\n",
    "\n",
    "# Replacing 'Fruit' with 'Healthy Snack' in the 'Category' column\n",
    "df['Category'] = df['Category'].replace('Fruit','Healthy Snack')\n",
    "\n",
    "# Displaying the DataFrame after replacement\n",
    "print(\"\\nDataFrame after replacement:\")\n",
    "print(df)"
   ]
  },
  {
   "cell_type": "markdown",
   "metadata": {},
   "source": [
    "Another example for data transformation by replacing"
   ]
  },
  {
   "cell_type": "code",
   "execution_count": 87,
   "metadata": {},
   "outputs": [
    {
     "name": "stdout",
     "output_type": "stream",
     "text": [
      "Original DataFrame:\n",
      "    k1  k2\n",
      "0  one   1\n",
      "1  one   1\n",
      "2  one   2\n",
      "3  two   3\n",
      "4  two   3\n",
      "5  two   4\n",
      "6  two   4\n",
      "\n",
      "DataFrame after Replacement:\n",
      "    k1  k2\n",
      "0  One   1\n",
      "1  One   1\n",
      "2  One   2\n",
      "3  two  30\n",
      "4  two  30\n",
      "5  two   4\n",
      "6  two   4\n"
     ]
    }
   ],
   "source": [
    "# Create DataFrame with duplicate entries\n",
    "df = pd.DataFrame({'k1':['one']*3 + ['two']*4, 'k2':[1,1,2,3,3,4,4]})\n",
    "\n",
    "# Displaying the original DataFrame\n",
    "print(\"Original DataFrame:\")\n",
    "print(df)\n",
    "\n",
    "df_replaced = df.replace(['one',3],['One','30'])\n",
    "# Displaying the DataFrame after replacement\n",
    "print(\"\\nDataFrame after Replacement:\")\n",
    "print(df_replaced)"
   ]
  },
  {
   "cell_type": "markdown",
   "metadata": {},
   "source": [
    "Analysis of Categorical Data\n",
    "- A) Identifying Distinct Elements Using unique()\n",
    "- The unique function reveals the uniqueness within your data, providing insights into\n",
    "its diversity."
   ]
  },
  {
   "cell_type": "code",
   "execution_count": 88,
   "metadata": {},
   "outputs": [
    {
     "name": "stdout",
     "output_type": "stream",
     "text": [
      "Original DataFrame\n",
      "    Category\n",
      "0      Fruit\n",
      "1  Vegetable\n",
      "2      Fruit\n",
      "3       Meat\n",
      "4  Vegetable\n",
      "5      Fruit\n",
      "6       Meat\n",
      "\n",
      "Unique Categories:\n",
      "['Fruit' 'Vegetable' 'Meat']\n"
     ]
    }
   ],
   "source": [
    "# Sample DataFrame with a column containing repeated elements\n",
    "data = {'Category' : ['Fruit', 'Vegetable', 'Fruit', 'Meat', 'Vegetable','Fruit','Meat']}\n",
    "\n",
    "df = pd.DataFrame(data)\n",
    "\n",
    "# Displaying the original DataFrame\n",
    "print(\"Original DataFrame\")\n",
    "print(df)\n",
    "\n",
    "# Extracting unique elements from the 'Category' column\n",
    "unique_categories = df['Category'].unique()\n",
    "\n",
    "# Displaying the unique elements\n",
    "print(\"\\nUnique Categories:\")\n",
    "print(unique_categories)"
   ]
  },
  {
   "cell_type": "markdown",
   "metadata": {},
   "source": [
    "- B) Counting Uniqueness with nunique()\n",
    "- The nunique() function offers a quick method to comprehend the variation within\n",
    "your dataset."
   ]
  },
  {
   "cell_type": "code",
   "execution_count": 89,
   "metadata": {},
   "outputs": [
    {
     "name": "stdout",
     "output_type": "stream",
     "text": [
      "Original DataFrame\n",
      "    Category\n",
      "0      Fruit\n",
      "1  Vegetable\n",
      "2      Fruit\n",
      "3       Meat\n",
      "4  Vegetable\n",
      "5      Fruit\n",
      "6       Meat\n",
      "\n",
      "Number of Unique Categories: 3\n"
     ]
    }
   ],
   "source": [
    "data = {'Category' : ['Fruit', 'Vegetable', 'Fruit', 'Meat', 'Vegetable','Fruit', 'Meat']}\n",
    "\n",
    "df = pd.DataFrame(data)\n",
    "\n",
    "# Displaying the original DataFrame\n",
    "print(\"Original DataFrame\")\n",
    "print(df)\n",
    "\n",
    "# Counting the number of unique elements in the 'Category' column\n",
    "num_unique_categories = df['Category'].nunique()\n",
    "\n",
    "# Displaying the number of unique elements\n",
    "print(\"\\nNumber of Unique Categories:\",num_unique_categories)"
   ]
  },
  {
   "cell_type": "markdown",
   "metadata": {},
   "source": [
    "## **Multi Index**\n",
    "- MultiIndex: Used to create a hierarchical index for a DataFrame. This implies that the DataFrame's index can have multiple levels instead of just a single level."
   ]
  },
  {
   "cell_type": "markdown",
   "metadata": {},
   "source": [
    "**Creating a 3D hierarchical table using MultiIndex or other\n",
    "methods.**\n",
    "\n",
    "- Creating a hierarchical table with a MultiIndex"
   ]
  },
  {
   "cell_type": "code",
   "execution_count": 90,
   "metadata": {},
   "outputs": [
    {
     "name": "stdout",
     "output_type": "stream",
     "text": [
      "California  2000    10000\n",
      "            2010    15000\n",
      "New York    2000    20000\n",
      "            2010    25000\n",
      "Texas       2000    30000\n",
      "            2010    35000\n",
      "dtype: int64\n"
     ]
    }
   ],
   "source": [
    "index = [('California',2000), ('California',2010), ('New York',2000), ('New York',2010),\n",
    "         ('Texas',2000), ('Texas', 2010)]\n",
    "populations = [10000, 15000, 20000, 25000, 30000, 35000]\n",
    "\n",
    "index = pd.MultiIndex.from_tuples(index)\n",
    "pop = pd.Series(populations, index=index)\n",
    "pop = pop.reindex(index)\n",
    "\n",
    "print(pop)"
   ]
  },
  {
   "cell_type": "markdown",
   "metadata": {},
   "source": [
    "Creating a hierarchical table with a DataFrame\n",
    "- The concept involves adding an index in 2D, considering the existing columns as 1D,\n",
    "resulting in a total of 3D structure."
   ]
  },
  {
   "cell_type": "code",
   "execution_count": 91,
   "metadata": {},
   "outputs": [
    {
     "name": "stdout",
     "output_type": "stream",
     "text": [
      "       income    profit\n",
      "a 1  0.123904  0.082218\n",
      "  2  0.243482  0.784595\n",
      "b 1  0.801739  0.479988\n",
      "  2  0.535707  0.081794\n"
     ]
    }
   ],
   "source": [
    "df = pd.DataFrame(np.random.rand(4,2),\n",
    "                  index = [['a','a','b','b'],\n",
    "                           [1,2,1,2]],\n",
    "                  columns = ['income', 'profit'])\n",
    "print(df)"
   ]
  },
  {
   "cell_type": "markdown",
   "metadata": {},
   "source": [
    "Creating a hierarchical table with a dictionary\n",
    "- The approach involves structuring the data in a dictionary, organizing it with nested\n",
    "dictionaries to achieve a hierarchical arrangement."
   ]
  },
  {
   "cell_type": "code",
   "execution_count": 92,
   "metadata": {},
   "outputs": [
    {
     "name": "stdout",
     "output_type": "stream",
     "text": [
      "California  2000    10000\n",
      "            2010    15000\n",
      "Texas       2000    20000\n",
      "            2010    25000\n",
      "New York    2000    30000\n",
      "            2010    35000\n",
      "dtype: int64\n"
     ]
    }
   ],
   "source": [
    "data = {('California', 2000): 10000,('California', 2010):15000,\n",
    "        ('Texas', 2000): 20000,('Texas', 2010): 25000,\n",
    "        ('New York', 2000): 30000,('New York', 2010): 35000}\n",
    "df = pd.Series(data)\n",
    "print(df)"
   ]
  },
  {
   "cell_type": "markdown",
   "metadata": {},
   "source": [
    "**Searching in the 3D Table by Year**"
   ]
  },
  {
   "cell_type": "code",
   "execution_count": 93,
   "metadata": {},
   "outputs": [
    {
     "name": "stdout",
     "output_type": "stream",
     "text": [
      "California  2000    10000\n",
      "            2010    15000\n",
      "New York    2000    20000\n",
      "            2010    25000\n",
      "Texas       2000    30000\n",
      "            2010    35000\n",
      "dtype: int64\n"
     ]
    }
   ],
   "source": [
    "index = [('California', 2000),('California', 2010), ('New York',2000),\n",
    "         ('New York', 2010),('Texas', 2000),('Texas', 2010)]\n",
    "populations = [10000,15000,20000,25000,30000,35000]\n",
    "\n",
    "index = pd.MultiIndex.from_tuples(index)\n",
    "pop = pd.Series(populations, index = index)\n",
    "pop = pop.reindex(index)\n",
    "\n",
    "print(pop[:2010])"
   ]
  },
  {
   "cell_type": "markdown",
   "metadata": {},
   "source": [
    "**Transforming the hierarchical table to a regular format\n",
    "using the unstack method.**"
   ]
  },
  {
   "cell_type": "code",
   "execution_count": 94,
   "metadata": {},
   "outputs": [
    {
     "name": "stdout",
     "output_type": "stream",
     "text": [
      "             2000   2010\n",
      "California  10000  15000\n",
      "New York    20000  25000\n",
      "Texas       30000  35000\n"
     ]
    }
   ],
   "source": [
    "index = [('California', 2000),('California', 2010), ('New York',2000),\n",
    "         ('New York', 2010),('Texas', 2000),('Texas', 2010)]\n",
    "populations = [10000,15000,20000,25000,30000,35000]\n",
    "\n",
    "index = pd.MultiIndex.from_tuples(index)\n",
    "pop = pd.Series(populations, index = index)\n",
    "pop = pop.reindex(index)\n",
    "\n",
    "print(pop.unstack())"
   ]
  },
  {
   "cell_type": "markdown",
   "metadata": {},
   "source": [
    "**Adding one more column to the DataFrame**"
   ]
  },
  {
   "cell_type": "code",
   "execution_count": 95,
   "metadata": {},
   "outputs": [
    {
     "name": "stdout",
     "output_type": "stream",
     "text": [
      "California  2000    10000\n",
      "            2010    15000\n",
      "New York    2000    20000\n",
      "            2010    25000\n",
      "Texas       2000    30000\n",
      "            2010    35000\n",
      "dtype: int64\n",
      "                 total  under18\n",
      "California 2000  10000  9267089\n",
      "           2010  15000  9284094\n",
      "New York   2000  20000  4687374\n",
      "           2010  25000  4318033\n",
      "Texas      2000  30000  5906301\n",
      "           2010  35000  6879014\n"
     ]
    }
   ],
   "source": [
    "index = [('California', 2000),('California', 2010), ('New York',2000),\n",
    "         ('New York', 2010),('Texas', 2000),('Texas', 2010)]\n",
    "populations = [10000,15000,20000,25000,30000,35000]\n",
    "\n",
    "index = pd.MultiIndex.from_tuples(index)\n",
    "pop = pd.Series(populations,index = index)\n",
    "pop = pop.reindex(index)\n",
    "\n",
    "pop_df = pd.DataFrame({'total': pop,\n",
    "                       'under18' : [9267089, 9284094,4687374,4318033,5906301, 6879014]})\n",
    "\n",
    "print(pop)\n",
    "print(pop_df)"
   ]
  },
  {
   "cell_type": "markdown",
   "metadata": {},
   "source": [
    "**Examples of Complicated Tables with MultiIndex**"
   ]
  },
  {
   "cell_type": "code",
   "execution_count": 96,
   "metadata": {},
   "outputs": [
    {
     "name": "stdout",
     "output_type": "stream",
     "text": [
      "subject     Bob      Guido       Sue     \n",
      "types        HR Temp    HR Temp   HR Temp\n",
      "year visit                               \n",
      "2013 1      1.0  1.0   1.0 -2.0 -1.0  1.0\n",
      "     2      1.0  1.0   0.0  0.0 -0.0  1.0\n",
      "2014 1      1.0 -0.0  -0.0  1.0 -1.0  0.0\n",
      "     2      1.0  1.0  -1.0 -0.0  1.0  2.0\n"
     ]
    }
   ],
   "source": [
    "index = pd.MultiIndex.from_product([[2013,2014],[1,2]],\n",
    "                                   names = ['year','visit'])\n",
    "columns = pd.MultiIndex.from_product([['Bob', 'Guido', 'Sue'],\n",
    "                                     ['HR','Temp']],\n",
    "                                    names = ['subject','types'])\n",
    "data = np.round(np.random.randn(4,6))\n",
    "health_data = pd.DataFrame(data, index = index, columns = columns)\n",
    "print(health_data)"
   ]
  },
  {
   "cell_type": "code",
   "execution_count": 97,
   "metadata": {},
   "outputs": [
    {
     "name": "stdout",
     "output_type": "stream",
     "text": [
      "year  visit\n",
      "2013  1       -1.0\n",
      "      2       -0.0\n",
      "2014  1       -0.0\n",
      "      2        1.0\n",
      "Name: (Guido, HR), dtype: float64\n"
     ]
    }
   ],
   "source": [
    "index = pd.MultiIndex.from_product([[2013,2014],[1,2]],\n",
    "                                   names = ['year','visit'])\n",
    "columns = pd.MultiIndex.from_product([['Bob', 'Guido', 'Sue'],\n",
    "                                     ['HR','Temp']],\n",
    "                                    names = ['subject','types'])\n",
    "data = np.round(np.random.randn(4,6))\n",
    "health_data = pd.DataFrame(data, index = index, columns = columns)\n",
    "\n",
    "print(health_data['Guido','HR'])"
   ]
  },
  {
   "cell_type": "code",
   "execution_count": 98,
   "metadata": {},
   "outputs": [
    {
     "name": "stdout",
     "output_type": "stream",
     "text": [
      "year  visit\n",
      "2013  1       -1.0\n",
      "      2        1.0\n",
      "2014  1       -1.0\n",
      "      2        1.0\n",
      "Name: (Bob, HR), dtype: float64\n"
     ]
    }
   ],
   "source": [
    "index = pd.MultiIndex.from_product([[2013,2014],[1,2]],\n",
    "                                   names = ['year','visit'])\n",
    "columns = pd.MultiIndex.from_product([['Bob', 'Guido', 'Sue'],\n",
    "                                     ['HR','Temp']],\n",
    "                                    names = ['subject','types'])\n",
    "data = np.round(np.random.randn(4,6))\n",
    "health_data = pd.DataFrame(data, index = index, columns = columns)\n",
    "\n",
    "print(health_data.loc[:,('Bob','HR')])"
   ]
  },
  {
   "cell_type": "code",
   "execution_count": 99,
   "metadata": {},
   "outputs": [
    {
     "name": "stdout",
     "output_type": "stream",
     "text": [
      "subject     Bob Guido  Sue\n",
      "types        HR    HR   HR\n",
      "year visit                \n",
      "2013 1      0.0   1.0 -1.0\n",
      "2014 1      1.0  -1.0  1.0\n"
     ]
    }
   ],
   "source": [
    "index = pd.MultiIndex.from_product([[2013,2014],[1,2]],\n",
    "                                   names = ['year','visit'])\n",
    "columns = pd.MultiIndex.from_product([['Bob', 'Guido', 'Sue'],\n",
    "                                     ['HR','Temp']],\n",
    "                                    names = ['subject','types'])\n",
    "data = np.round(np.random.randn(4,6))\n",
    "health_data = pd.DataFrame(data, index = index, columns = columns)\n",
    "\n",
    "idx = pd.IndexSlice\n",
    "print(health_data.loc[idx[:,1],\n",
    "      idx[:,'HR']])"
   ]
  },
  {
   "cell_type": "markdown",
   "metadata": {},
   "source": [
    "## **String in Pandas**\n",
    "- Pandas handles strings through various methods, offering a range of\n",
    "functionalities for string manipulation.\n",
    "- It's important to note that you can access the data as a series and then use the\n",
    "str class, which contains numerous functions for applying operations element-\n",
    "wise and returning the result for each element."
   ]
  },
  {
   "cell_type": "code",
   "execution_count": 100,
   "metadata": {},
   "outputs": [
    {
     "name": "stdout",
     "output_type": "stream",
     "text": [
      "0    5\n",
      "1    4\n",
      "2    4\n",
      "3    2\n",
      "4    0\n",
      "dtype: int64\n",
      "0     True\n",
      "1    False\n",
      "2    False\n",
      "3    False\n",
      "4    False\n",
      "dtype: bool\n",
      "0    False\n",
      "1    False\n",
      "2     True\n",
      "3    False\n",
      "4    False\n",
      "dtype: bool\n",
      "0    2\n",
      "1   -1\n",
      "2   -1\n",
      "3   -1\n",
      "4   -1\n",
      "dtype: int64\n",
      "0   -1\n",
      "1   -1\n",
      "2    1\n",
      "3   -1\n",
      "4   -1\n",
      "dtype: int64\n"
     ]
    }
   ],
   "source": [
    "data = ['peter','Paul', 'MARY','15','']\n",
    "\n",
    "print(pd.Series(data).str.len()) # Length\n",
    "print(pd.Series(data).str.startswith('p')) # Is it start with \"p\"\n",
    "print(pd.Series(data).str.endswith('Y')) # Does is end \"Y\"\n",
    "print(pd.Series(data).str.find('t')) # find this letter\n",
    "print(pd.Series(data).str.rfind('A')) # Find from right"
   ]
  },
  {
   "cell_type": "code",
   "execution_count": 101,
   "metadata": {},
   "outputs": [
    {
     "name": "stdout",
     "output_type": "stream",
     "text": [
      "0                   peter\n",
      "1                    Paul\n",
      "2                    MARY\n",
      "3                      15\n",
      "4                        \n",
      "dtype: object\n",
      "0    peter                                         ...\n",
      "1    Paul                                          ...\n",
      "2    MARY                                          ...\n",
      "3    15                                            ...\n",
      "4                                                  ...\n",
      "dtype: object\n",
      "0      peter   \n",
      "1       Paul   \n",
      "2       MARY   \n",
      "3        15    \n",
      "4              \n",
      "dtype: object\n",
      "0    peter\n",
      "1    0Paul\n",
      "2    0MARY\n",
      "3    00015\n",
      "4    00000\n",
      "dtype: object\n"
     ]
    }
   ],
   "source": [
    "data = ['peter', 'Paul', 'MARY', '15', '']\n",
    "\n",
    "print(pd.Series(data).str.rjust(20)) # adjust from right\n",
    "print(pd.Series(data).str.ljust(50)) # adjust from left\n",
    "print(pd.Series(data).str.center(10)) # make it center\n",
    "print(pd.Series(data).str.zfill(5)) # fill zeros"
   ]
  },
  {
   "cell_type": "code",
   "execution_count": 102,
   "metadata": {},
   "outputs": [
    {
     "name": "stdout",
     "output_type": "stream",
     "text": [
      "0    False\n",
      "1    False\n",
      "2     True\n",
      "3    False\n",
      "4    False\n",
      "dtype: bool\n",
      "0     True\n",
      "1    False\n",
      "2    False\n",
      "3    False\n",
      "4    False\n",
      "dtype: bool\n",
      "0    False\n",
      "1     True\n",
      "2    False\n",
      "3    False\n",
      "4    False\n",
      "dtype: bool\n",
      "0    False\n",
      "1    False\n",
      "2    False\n",
      "3    False\n",
      "4     True\n",
      "dtype: bool\n",
      "0    False\n",
      "1    False\n",
      "2    False\n",
      "3     True\n",
      "4    False\n",
      "dtype: bool\n",
      "0     True\n",
      "1     True\n",
      "2     True\n",
      "3    False\n",
      "4    False\n",
      "dtype: bool\n",
      "0     True\n",
      "1     True\n",
      "2     True\n",
      "3     True\n",
      "4    False\n",
      "dtype: bool\n",
      "0    False\n",
      "1    False\n",
      "2    False\n",
      "3     True\n",
      "4    False\n",
      "dtype: bool\n",
      "0    False\n",
      "1    False\n",
      "2    False\n",
      "3     True\n",
      "4    False\n",
      "dtype: bool\n",
      "0    PETER\n",
      "1     PAUL\n",
      "2     MARY\n",
      "3       15\n",
      "4         \n",
      "dtype: object\n",
      "0    Peter\n",
      "1     Paul\n",
      "2     Mary\n",
      "3       15\n",
      "4         \n",
      "dtype: object\n",
      "0    peter\n",
      "1     paul\n",
      "2     mary\n",
      "3       15\n",
      "4         \n",
      "dtype: object\n",
      "0    PETER\n",
      "1     pAUL\n",
      "2     mary\n",
      "3       15\n",
      "4         \n",
      "dtype: object\n"
     ]
    }
   ],
   "source": [
    "data = ['peter', 'Paul', 'MARY', '15' ,' ' ]\n",
    "\n",
    "print(pd.Series(data).str.isupper()) #is it all capital letter ?\n",
    "print(pd.Series(data).str.islower()) #is it all lower ?\n",
    "print(pd.Series(data).str.istitle()) #is like like \"This\"\n",
    "print(pd.Series(data).str.isspace()) #is it all spaces ?\n",
    "print(pd.Series(data).str.isdigit()) #is it number ?\n",
    "print(pd.Series(data).str.isalpha()) #is it all letters ?\n",
    "print(pd.Series(data).str.isalnum()) #is it not got any spaces ?\n",
    "print(pd.Series(data).str.isdecimal()) #is it decimals ?\n",
    "print(pd.Series(data).str.isnumeric()) #is it number\n",
    "print(pd.Series(data).str.upper()) #make it capital\n",
    "print(pd.Series(data).str.capitalize()) #make it like 'This'\n",
    "print(pd.Series(data).str.lower()) #make it lower\n",
    "print(pd.Series(data).str.swapcase()) #switch capital & small"
   ]
  },
  {
   "cell_type": "markdown",
   "metadata": {},
   "source": [
    "## **Date & Time**\n",
    "**Write Date in Pandas**\n",
    "- In Pandas, dates are typically represented in the format of year, month, day, hour,\n",
    "minute, and second.\n",
    "- This format allows for easy access to individual components such as year,\n",
    "month, day, hour, minute, and second."
   ]
  },
  {
   "cell_type": "code",
   "execution_count": 103,
   "metadata": {},
   "outputs": [
    {
     "name": "stdout",
     "output_type": "stream",
     "text": [
      "2018-07-04 00:00:00\n"
     ]
    }
   ],
   "source": [
    "x = pd.to_datetime(\"4th of July, 2018\")\n",
    "print(x)"
   ]
  },
  {
   "cell_type": "markdown",
   "metadata": {},
   "source": [
    "**Range between past and future dates**"
   ]
  },
  {
   "cell_type": "code",
   "execution_count": 104,
   "metadata": {},
   "outputs": [
    {
     "name": "stdout",
     "output_type": "stream",
     "text": [
      "2018-07-04 00:00:00\n",
      "DatetimeIndex(['2018-07-04', '2018-07-05', '2018-07-06', '2018-07-07',\n",
      "               '2018-07-08', '2018-07-09', '2018-07-10', '2018-07-11',\n",
      "               '2018-07-12', '2018-07-13', '2018-07-14', '2018-07-15',\n",
      "               '2018-07-16', '2018-07-17', '2018-07-18', '2018-07-19',\n",
      "               '2018-07-20', '2018-07-21', '2018-07-22', '2018-07-23'],\n",
      "              dtype='datetime64[ns]', freq=None)\n",
      "DatetimeIndex(['2018-07-04', '2018-07-03', '2018-07-02', '2018-07-01',\n",
      "               '2018-06-30', '2018-06-29', '2018-06-28', '2018-06-27',\n",
      "               '2018-06-26', '2018-06-25', '2018-06-24', '2018-06-23',\n",
      "               '2018-06-22', '2018-06-21', '2018-06-20', '2018-06-19',\n",
      "               '2018-06-18', '2018-06-17', '2018-06-16', '2018-06-15'],\n",
      "              dtype='datetime64[ns]', freq=None)\n"
     ]
    }
   ],
   "source": [
    "x = pd.to_datetime(\"4th of July, 2018\")\n",
    "y = x + pd.to_timedelta(np.arange(20),'D') # '+' forward\n",
    "z = x - pd.to_timedelta(np.arange(20),'D') #'-' Backward\n",
    "\n",
    "print(x)\n",
    "print(y)\n",
    "print(z)"
   ]
  },
  {
   "cell_type": "markdown",
   "metadata": {},
   "source": [
    "Creating a Table for Dates"
   ]
  },
  {
   "cell_type": "code",
   "execution_count": 105,
   "metadata": {},
   "outputs": [
    {
     "name": "stdout",
     "output_type": "stream",
     "text": [
      "2014-07-04    0\n",
      "2014-08-04    1\n",
      "2015-07-04    2\n",
      "2015-08-04    3\n",
      "dtype: int64\n"
     ]
    }
   ],
   "source": [
    "index = pd.DatetimeIndex(['2014-07-04', '2014-08-04','2015-07-04','2015-08-04'])\n",
    "data = pd.Series([0,1,2,3],index = index)\n",
    "print(data)"
   ]
  },
  {
   "cell_type": "markdown",
   "metadata": {},
   "source": [
    "Filtering based on dates: days, months, or years"
   ]
  },
  {
   "cell_type": "code",
   "execution_count": 106,
   "metadata": {},
   "outputs": [
    {
     "name": "stdout",
     "output_type": "stream",
     "text": [
      "2011-03-12    0\n",
      "2012-08-21    1\n",
      "dtype: int64\n"
     ]
    }
   ],
   "source": [
    "index = pd.DatetimeIndex(['2011-03-12', '2012-08-21','2013-07-11','2014-11-08'])\n",
    "data = pd.Series([0,1,2,3], index = index)\n",
    "print(data['2011-01-01':'2012-12-31'])"
   ]
  },
  {
   "cell_type": "code",
   "execution_count": 107,
   "metadata": {},
   "outputs": [
    {
     "name": "stdout",
     "output_type": "stream",
     "text": [
      "2012-08-21    1\n",
      "dtype: int64\n"
     ]
    }
   ],
   "source": [
    "index = pd.DatetimeIndex(['2011-03-12', '2012-08-21','2013-07-11','2014-11-08'])\n",
    "data = pd.Series([0,1,2,3], index = index)\n",
    "print(data['2012'])"
   ]
  },
  {
   "cell_type": "code",
   "execution_count": 108,
   "metadata": {},
   "outputs": [
    {
     "name": "stdout",
     "output_type": "stream",
     "text": [
      "2012-08-21    1\n",
      "dtype: int64\n"
     ]
    }
   ],
   "source": [
    "index = pd.DatetimeIndex(['2011-03-12', '2012-08-21','2013-07-11','2014-11-08'])\n",
    "data = pd.Series([0,1,2,3], index = index)\n",
    "print(data['2012-08'])"
   ]
  },
  {
   "cell_type": "markdown",
   "metadata": {},
   "source": [
    "Creating a table for dates with a range between two dates or\n",
    "starting from a specific day."
   ]
  },
  {
   "cell_type": "code",
   "execution_count": 109,
   "metadata": {},
   "outputs": [
    {
     "name": "stdout",
     "output_type": "stream",
     "text": [
      "DatetimeIndex(['2011-12-25', '2011-12-26', '2011-12-27', '2011-12-28',\n",
      "               '2011-12-29', '2011-12-30', '2011-12-31', '2012-01-01',\n",
      "               '2012-01-02', '2012-01-03', '2012-01-04', '2012-01-05',\n",
      "               '2012-01-06', '2012-01-07', '2012-01-08'],\n",
      "              dtype='datetime64[ns]', freq='D')\n"
     ]
    }
   ],
   "source": [
    "data = pd.date_range('2011-12-25', '2012-01-08') \n",
    "print(data)"
   ]
  },
  {
   "cell_type": "code",
   "execution_count": 110,
   "metadata": {},
   "outputs": [
    {
     "name": "stdout",
     "output_type": "stream",
     "text": [
      "DatetimeIndex(['2011-12-25', '2011-12-26', '2011-12-27', '2011-12-28',\n",
      "               '2011-12-29', '2011-12-30', '2011-12-31', '2012-01-01'],\n",
      "              dtype='datetime64[ns]', freq='D')\n"
     ]
    }
   ],
   "source": [
    "data = pd.date_range('2011-12-25',periods = 8)\n",
    "print(data)"
   ]
  },
  {
   "cell_type": "code",
   "execution_count": 111,
   "metadata": {},
   "outputs": [
    {
     "name": "stdout",
     "output_type": "stream",
     "text": [
      "DatetimeIndex(['2011-12-25 00:00:00', '2011-12-25 01:00:00',\n",
      "               '2011-12-25 02:00:00', '2011-12-25 03:00:00',\n",
      "               '2011-12-25 04:00:00', '2011-12-25 05:00:00',\n",
      "               '2011-12-25 06:00:00', '2011-12-25 07:00:00'],\n",
      "              dtype='datetime64[ns]', freq='h')\n"
     ]
    }
   ],
   "source": [
    "data = pd.date_range('2011-12-25', periods=8, freq='h') \n",
    "print(data)"
   ]
  },
  {
   "cell_type": "markdown",
   "metadata": {},
   "source": [
    "Creating a table for dates with a range specified by hours only,\n",
    "excluding dates."
   ]
  },
  {
   "cell_type": "code",
   "execution_count": 112,
   "metadata": {},
   "outputs": [
    {
     "name": "stdout",
     "output_type": "stream",
     "text": [
      "TimedeltaIndex(['0 days 00:00:00', '0 days 01:00:00', '0 days 02:00:00',\n",
      "                '0 days 03:00:00', '0 days 04:00:00', '0 days 05:00:00',\n",
      "                '0 days 06:00:00', '0 days 07:00:00', '0 days 08:00:00',\n",
      "                '0 days 09:00:00'],\n",
      "               dtype='timedelta64[ns]', freq='h')\n"
     ]
    }
   ],
   "source": [
    "data = pd.timedelta_range(0,periods = 10, freq = 'h')\n",
    "print(data)"
   ]
  },
  {
   "cell_type": "code",
   "execution_count": 113,
   "metadata": {},
   "outputs": [
    {
     "name": "stdout",
     "output_type": "stream",
     "text": [
      "TimedeltaIndex(['0 days 00:00:00', '0 days 02:30:40', '0 days 05:01:20',\n",
      "                '0 days 07:32:00', '0 days 10:02:40', '0 days 12:33:20',\n",
      "                '0 days 15:04:00', '0 days 17:34:40', '0 days 20:05:20'],\n",
      "               dtype='timedelta64[ns]', freq='9040s')\n"
     ]
    }
   ],
   "source": [
    "data = pd.timedelta_range(0,periods = 9,freq=\"2h30min40s\")\n",
    "print(data)"
   ]
  },
  {
   "cell_type": "code",
   "execution_count": 114,
   "metadata": {},
   "outputs": [
    {
     "name": "stdout",
     "output_type": "stream",
     "text": [
      "DatetimeIndex(['2018-07-02', '2018-07-03', '2018-07-04', '2018-07-05',\n",
      "               '2018-07-06'],\n",
      "              dtype='datetime64[ns]', freq='B')\n"
     ]
    }
   ],
   "source": [
    "data = pd.date_range('2018-07-01', periods = 5, freq = BDay())\n",
    "print(data)"
   ]
  },
  {
   "cell_type": "markdown",
   "metadata": {},
   "source": [
    "## **File Hundling (CSV files)**\n",
    "The CSV (Comma-Separated Values) file --> is a text file format that uses commas\n",
    "to separate values\n",
    "\n",
    "**Save DF as CSV or Excel file**\n",
    "- (Comma-Separated Values) is a text file format that uses commas to\n",
    "separate values"
   ]
  },
  {
   "cell_type": "code",
   "execution_count": 115,
   "metadata": {},
   "outputs": [
    {
     "name": "stdout",
     "output_type": "stream",
     "text": [
      "   Math  Physics  French  Chemistry\n",
      "a     1        6      11         16\n",
      "b     2        7      12         17\n",
      "c     3        8      13         18\n",
      "d     4        9      14         19\n",
      "e     5       10      15         20\n"
     ]
    }
   ],
   "source": [
    "w = pd.Series({'a':1 ,'b':2 ,'c':3 ,'d':4 ,'e':5})\n",
    "x = pd.Series({'a':6 ,'b':7 ,'c':8 ,'d':9 ,'e':10})\n",
    "y = pd.Series({'a':11 ,'b':12 ,'c':13 ,'d':14 ,'e':15})\n",
    "z = pd.Series({'a':16 ,'b':17 ,'c':18 ,'d':19 ,'e':20})\n",
    "grades = pd.DataFrame({'Math':w,'Physics':x,'French':y,'Chemistry':z})\n",
    "print(grades)\n",
    "grades.to_csv('dataframe1.csv')"
   ]
  },
  {
   "cell_type": "code",
   "execution_count": 116,
   "metadata": {},
   "outputs": [
    {
     "name": "stdout",
     "output_type": "stream",
     "text": [
      "   Math  Physics  French  Chemistry\n",
      "a     1        6      11         16\n",
      "b     2        7      12         17\n",
      "c     3        8      13         18\n",
      "d     4        9      14         19\n",
      "e     5       10      15         20\n"
     ]
    }
   ],
   "source": [
    "w = pd.Series({'a':1 ,'b':2 ,'c':3 ,'d':4 ,'e':5})\n",
    "x = pd.Series({'a':6 ,'b':7 ,'c':8 ,'d':9 ,'e':10})\n",
    "y = pd.Series({'a':11 ,'b':12 ,'c':13 ,'d':14 ,'e':15})\n",
    "z = pd.Series({'a':16 ,'b':17 ,'c':18 ,'d':19 ,'e':20})\n",
    "grades = pd.DataFrame({'Math':w,'Physics':x,'French':y,'Chemistry':z}) \n",
    "print(grades)\n",
    "grades.to_excel('dataframe1.xlsx',sheet_name ='Sheet1')"
   ]
  },
  {
   "cell_type": "markdown",
   "metadata": {},
   "source": [
    "**Applying different methods while reading the DataFrame**\n",
    "\n",
    "Specify one column to be the index column"
   ]
  },
  {
   "cell_type": "code",
   "execution_count": 117,
   "metadata": {},
   "outputs": [
    {
     "name": "stdout",
     "output_type": "stream",
     "text": [
      "     Unnamed: 0  Physics  French  Chemistry\n",
      "Math                                       \n",
      "1             a        6      11         16\n",
      "2             b        7      12         17\n",
      "3             c        8      13         18\n",
      "4             d        9      14         19\n",
      "5             e       10      15         20\n"
     ]
    }
   ],
   "source": [
    "data = pd.read_csv(\"dataframe1.csv\",index_col = \"Math\")\n",
    "print(data)"
   ]
  },
  {
   "cell_type": "markdown",
   "metadata": {},
   "source": [
    "Skip some rows"
   ]
  },
  {
   "cell_type": "code",
   "execution_count": null,
   "metadata": {},
   "outputs": [],
   "source": [
    "filename= \"pima-indians-diabetes.csv\"\n",
    "names = ['preg', 'plas', 'pres', 'skin', 'test', 'mass', 'pedi', 'age', ' df =\n",
    "pd.read_csv(filename, skiprows=9, names = names)\n",
    "# df.head(10)\n",
    "description = data.describe()\n",
    "print("
   ]
  }
 ],
 "metadata": {
  "kernelspec": {
   "display_name": "Python 3 (ipykernel)",
   "language": "python",
   "name": "python3"
  },
  "language_info": {
   "codemirror_mode": {
    "name": "ipython",
    "version": 3
   },
   "file_extension": ".py",
   "mimetype": "text/x-python",
   "name": "python",
   "nbconvert_exporter": "python",
   "pygments_lexer": "ipython3",
   "version": "3.12.5"
  }
 },
 "nbformat": 4,
 "nbformat_minor": 4
}
